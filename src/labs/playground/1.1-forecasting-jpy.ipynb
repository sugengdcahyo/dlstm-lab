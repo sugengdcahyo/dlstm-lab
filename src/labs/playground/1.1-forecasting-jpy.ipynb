{
 "cells": [
  {
   "cell_type": "code",
   "execution_count": 1,
   "id": "46ae3f88-b415-4534-ad61-d9178cfbe31a",
   "metadata": {},
   "outputs": [
    {
     "name": "stderr",
     "output_type": "stream",
     "text": [
      "2022-07-28 05:57:33.783201: W tensorflow/stream_executor/platform/default/dso_loader.cc:64] Could not load dynamic library 'libcudart.so.11.0'; dlerror: libcudart.so.11.0: cannot open shared object file: No such file or directory\n",
      "2022-07-28 05:57:33.783251: I tensorflow/stream_executor/cuda/cudart_stub.cc:29] Ignore above cudart dlerror if you do not have a GPU set up on your machine.\n"
     ]
    }
   ],
   "source": [
    "from utils.dict_transform import dict2obj\n",
    "\n",
    "import os \n",
    "import math\n",
    "import matplotlib.pyplot as plt\n",
    "import keras\n",
    "import pandas as pd\n",
    "import numpy as np\n",
    "\n",
    "from keras.models import Sequential\n",
    "from keras.layers import (\n",
    "    Dense, LSTM, LSTMCell, Dropout\n",
    ")\n",
    "from keras.callbacks import EarlyStopping\n",
    "from keras.utils.vis_utils import plot_model\n",
    "from keras.optimizers import adam_v2, sgd_experimental\n",
    "\n",
    "from sklearn.metrics import (\n",
    "    mean_absolute_error as mae, \n",
    "    mean_squared_error as mse\n",
    ")\n",
    "from sklearn.model_selection import train_test_split\n",
    "from sklearn.preprocessing import MinMaxScaler\n",
    "\n",
    "from bunch import bunchify"
   ]
  },
  {
   "cell_type": "code",
   "execution_count": 2,
   "id": "3bda1564-dd0a-473f-a02e-d966cf0db006",
   "metadata": {},
   "outputs": [],
   "source": [
    "DATASET_DIR = \"../datasets/\"\n",
    "MODEL_DIR = \"../models/\"\n",
    "FILE_DIR = \"./\"\n",
    "SAMPLE = \"JPY\""
   ]
  },
  {
   "cell_type": "code",
   "execution_count": 3,
   "id": "84616df5-fe8e-43f7-ba0c-00289033b12f",
   "metadata": {},
   "outputs": [],
   "source": [
    "df = pd.read_csv(f\"../datasets/{SAMPLE.lower()}-merged.csv\", index_col=0, header=0)"
   ]
  },
  {
   "cell_type": "markdown",
   "id": "44c04804-7af7-4ed4-83ce-2af92435d02b",
   "metadata": {},
   "source": [
    "# Data Single Fitur Configuration\n",
    "\n",
    "Pada tahap ini data yang diproses hanya fitur data ***Price*** saja. fitur  ***Open***, ***High***, dan ***Low*** diabaikan.\n",
    "\n",
    "> **Notes**\n",
    ">\n",
    "> perform the process of sharing training and test data, then the data will be normalized in standard form. "
   ]
  },
  {
   "cell_type": "markdown",
   "id": "a16733e6-6ffb-48cb-85b4-8e8a92442707",
   "metadata": {},
   "source": [
    "## Data spliting (training & testing)\n",
    "\n",
    "> **Notes**\n",
    "> Pembagian data training dan testing menggunakan rasio 80% awal untuk training dan 20% terakhir sebagai testing"
   ]
  },
  {
   "cell_type": "code",
   "execution_count": 4,
   "id": "d451db96-2b1b-4c36-ad30-be332d7433c7",
   "metadata": {},
   "outputs": [],
   "source": [
    "# split function\n",
    "def split(data, n_train=.8, n_test=.2):\n",
    "    n_data = len(data)\n",
    "    train_set = data.value.iloc[:round(n_train*n_data)].values\n",
    "    test_set = data.value.iloc[round(n_train*n_data):].values\n",
    "    return train_set, test_set"
   ]
  },
  {
   "cell_type": "code",
   "execution_count": 5,
   "id": "f13a5b40-1bb9-4082-a473-669e1308c2f2",
   "metadata": {},
   "outputs": [],
   "source": [
    "datasets = {}\n",
    "datasets['train_set'], datasets['test_set'] = split(df)"
   ]
  },
  {
   "cell_type": "code",
   "execution_count": 6,
   "id": "061d5134-6cb2-47ae-899c-d7852c6e7e1d",
   "metadata": {},
   "outputs": [
    {
     "data": {
      "text/plain": [
       "('total -> 2557 | ', 2046, 511)"
      ]
     },
     "execution_count": 6,
     "metadata": {},
     "output_type": "execute_result"
    }
   ],
   "source": [
    "f\"total -> {len(df)} | \", len(datasets['train_set']), len(datasets['test_set'])"
   ]
  },
  {
   "cell_type": "code",
   "execution_count": 9,
   "id": "0ef4df1c-f9a1-4111-9d58-c3258133e841",
   "metadata": {},
   "outputs": [
    {
     "data": {
      "text/html": [
       "<div>\n",
       "<style scoped>\n",
       "    .dataframe tbody tr th:only-of-type {\n",
       "        vertical-align: middle;\n",
       "    }\n",
       "\n",
       "    .dataframe tbody tr th {\n",
       "        vertical-align: top;\n",
       "    }\n",
       "\n",
       "    .dataframe thead th {\n",
       "        text-align: right;\n",
       "    }\n",
       "</style>\n",
       "<table border=\"1\" class=\"dataframe\">\n",
       "  <thead>\n",
       "    <tr style=\"text-align: right;\">\n",
       "      <th></th>\n",
       "      <th>value</th>\n",
       "    </tr>\n",
       "    <tr>\n",
       "      <th>date</th>\n",
       "      <th></th>\n",
       "    </tr>\n",
       "  </thead>\n",
       "  <tbody>\n",
       "    <tr>\n",
       "      <th>2014-01-01</th>\n",
       "      <td>115.60</td>\n",
       "    </tr>\n",
       "    <tr>\n",
       "      <th>2014-01-02</th>\n",
       "      <td>115.90</td>\n",
       "    </tr>\n",
       "    <tr>\n",
       "      <th>2014-01-03</th>\n",
       "      <td>115.81</td>\n",
       "    </tr>\n",
       "    <tr>\n",
       "      <th>2014-01-04</th>\n",
       "      <td>116.02</td>\n",
       "    </tr>\n",
       "    <tr>\n",
       "      <th>2014-01-05</th>\n",
       "      <td>115.89</td>\n",
       "    </tr>\n",
       "    <tr>\n",
       "      <th>2014-01-06</th>\n",
       "      <td>116.49</td>\n",
       "    </tr>\n",
       "    <tr>\n",
       "      <th>2014-01-07</th>\n",
       "      <td>116.71</td>\n",
       "    </tr>\n",
       "    <tr>\n",
       "      <th>2014-01-08</th>\n",
       "      <td>116.37</td>\n",
       "    </tr>\n",
       "    <tr>\n",
       "      <th>2014-01-09</th>\n",
       "      <td>115.93</td>\n",
       "    </tr>\n",
       "    <tr>\n",
       "      <th>2014-01-10</th>\n",
       "      <td>116.25</td>\n",
       "    </tr>\n",
       "    <tr>\n",
       "      <th>2014-01-11</th>\n",
       "      <td>115.98</td>\n",
       "    </tr>\n",
       "    <tr>\n",
       "      <th>2014-01-12</th>\n",
       "      <td>115.73</td>\n",
       "    </tr>\n",
       "  </tbody>\n",
       "</table>\n",
       "</div>"
      ],
      "text/plain": [
       "             value\n",
       "date              \n",
       "2014-01-01  115.60\n",
       "2014-01-02  115.90\n",
       "2014-01-03  115.81\n",
       "2014-01-04  116.02\n",
       "2014-01-05  115.89\n",
       "2014-01-06  116.49\n",
       "2014-01-07  116.71\n",
       "2014-01-08  116.37\n",
       "2014-01-09  115.93\n",
       "2014-01-10  116.25\n",
       "2014-01-11  115.98\n",
       "2014-01-12  115.73"
      ]
     },
     "execution_count": 9,
     "metadata": {},
     "output_type": "execute_result"
    }
   ],
   "source": [
    "df[:12]"
   ]
  }
 ],
 "metadata": {
  "kernelspec": {
   "display_name": "Python 3 (ipykernel)",
   "language": "python",
   "name": "python3"
  },
  "language_info": {
   "codemirror_mode": {
    "name": "ipython",
    "version": 3
   },
   "file_extension": ".py",
   "mimetype": "text/x-python",
   "name": "python",
   "nbconvert_exporter": "python",
   "pygments_lexer": "ipython3",
   "version": "3.8.10"
  }
 },
 "nbformat": 4,
 "nbformat_minor": 5
}
