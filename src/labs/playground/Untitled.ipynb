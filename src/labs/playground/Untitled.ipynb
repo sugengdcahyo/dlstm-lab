{
 "cells": [
  {
   "cell_type": "code",
   "execution_count": 11,
   "id": "46ae3f88-b415-4534-ad61-d9178cfbe31a",
   "metadata": {},
   "outputs": [],
   "source": [
    "import pandas as pd\n",
    "import numpy as np"
   ]
  },
  {
   "cell_type": "code",
   "execution_count": 8,
   "id": "84616df5-fe8e-43f7-ba0c-00289033b12f",
   "metadata": {},
   "outputs": [],
   "source": [
    "df = pd.read_csv('../records/JPY_IDR_exchange_record_1990.csv', index_col=0, header=0)"
   ]
  },
  {
   "cell_type": "code",
   "execution_count": 10,
   "id": "0ef4df1c-f9a1-4111-9d58-c3258133e841",
   "metadata": {},
   "outputs": [
    {
     "data": {
      "text/html": [
       "<div>\n",
       "<style scoped>\n",
       "    .dataframe tbody tr th:only-of-type {\n",
       "        vertical-align: middle;\n",
       "    }\n",
       "\n",
       "    .dataframe tbody tr th {\n",
       "        vertical-align: top;\n",
       "    }\n",
       "\n",
       "    .dataframe thead th {\n",
       "        text-align: right;\n",
       "    }\n",
       "</style>\n",
       "<table border=\"1\" class=\"dataframe\">\n",
       "  <thead>\n",
       "    <tr style=\"text-align: right;\">\n",
       "      <th></th>\n",
       "      <th>70.93851154713339</th>\n",
       "    </tr>\n",
       "    <tr>\n",
       "      <th>915408000000</th>\n",
       "      <th></th>\n",
       "    </tr>\n",
       "  </thead>\n",
       "  <tbody>\n",
       "    <tr>\n",
       "      <th>915494400000</th>\n",
       "      <td>71.387122</td>\n",
       "    </tr>\n",
       "    <tr>\n",
       "      <th>915580800000</th>\n",
       "      <td>70.358586</td>\n",
       "    </tr>\n",
       "    <tr>\n",
       "      <th>915667200000</th>\n",
       "      <td>71.460130</td>\n",
       "    </tr>\n",
       "    <tr>\n",
       "      <th>915753600000</th>\n",
       "      <td>71.895317</td>\n",
       "    </tr>\n",
       "    <tr>\n",
       "      <th>916012800000</th>\n",
       "      <td>73.127716</td>\n",
       "    </tr>\n",
       "    <tr>\n",
       "      <th>...</th>\n",
       "      <td>...</td>\n",
       "    </tr>\n",
       "    <tr>\n",
       "      <th>1656979200000</th>\n",
       "      <td>110.840587</td>\n",
       "    </tr>\n",
       "    <tr>\n",
       "      <th>1657065600000</th>\n",
       "      <td>110.495083</td>\n",
       "    </tr>\n",
       "    <tr>\n",
       "      <th>1657152000000</th>\n",
       "      <td>110.164631</td>\n",
       "    </tr>\n",
       "    <tr>\n",
       "      <th>1657238400000</th>\n",
       "      <td>110.047782</td>\n",
       "    </tr>\n",
       "    <tr>\n",
       "      <th>1657324800000</th>\n",
       "      <td>110.051804</td>\n",
       "    </tr>\n",
       "  </tbody>\n",
       "</table>\n",
       "<p>8368 rows × 1 columns</p>\n",
       "</div>"
      ],
      "text/plain": [
       "                70.93851154713339\n",
       "915408000000                     \n",
       "915494400000            71.387122\n",
       "915580800000            70.358586\n",
       "915667200000            71.460130\n",
       "915753600000            71.895317\n",
       "916012800000            73.127716\n",
       "...                           ...\n",
       "1656979200000          110.840587\n",
       "1657065600000          110.495083\n",
       "1657152000000          110.164631\n",
       "1657238400000          110.047782\n",
       "1657324800000          110.051804\n",
       "\n",
       "[8368 rows x 1 columns]"
      ]
     },
     "execution_count": 10,
     "metadata": {},
     "output_type": "execute_result"
    }
   ],
   "source": [
    "df"
   ]
  }
 ],
 "metadata": {
  "kernelspec": {
   "display_name": "Python 3 (ipykernel)",
   "language": "python",
   "name": "python3"
  },
  "language_info": {
   "codemirror_mode": {
    "name": "ipython",
    "version": 3
   },
   "file_extension": ".py",
   "mimetype": "text/x-python",
   "name": "python",
   "nbconvert_exporter": "python",
   "pygments_lexer": "ipython3",
   "version": "3.8.13"
  }
 },
 "nbformat": 4,
 "nbformat_minor": 5
}
