{
 "cells": [
  {
   "cell_type": "code",
   "execution_count": 11,
   "id": "d1886d64-c3d2-4f24-b279-1fd8f879a0ce",
   "metadata": {},
   "outputs": [],
   "source": [
    "import os\n",
    "import math\n",
    "import matplotlib.pyplot as plt\n",
    "import keras\n",
    "import pandas as pd\n",
    "import numpy as np\n",
    "\n",
    "from keras.models import Sequential\n",
    "from keras.layers import (\n",
    "    Dense, LSTM, LSTMCell, Dropout\n",
    ")\n",
    "from keras.callbacks import EarlyStopping\n",
    "from keras.utils.vis_utils import plot_model\n",
    "from keras.optimizers import adam_v2, sgd_experimental\n",
    "\n",
    "from sklearn.metrics import (\n",
    "    mean_absolute_error as mae, \n",
    "    mean_squared_error as mae\n",
    ")\n",
    "from sklearn.model_selection import train_test_split\n",
    "from sklearn.preprocessing import MinMaxScaler\n",
    "\n",
    "from bunch import bunchify\n",
    "\n",
    "from django.conf import settings"
   ]
  },
  {
   "cell_type": "code",
   "execution_count": null,
   "id": "53cc3365-2a13-4952-ab9b-d8396e9c7ceb",
   "metadata": {},
   "outputs": [],
   "source": []
  },
  {
   "cell_type": "code",
   "execution_count": 5,
   "id": "11ce69ed-9ab5-4e22-96bb-b717bb3529e6",
   "metadata": {},
   "outputs": [],
   "source": [
    "DATASET_BASEDIR = f\"{settings.BASE_DIR}/labs/datasets\""
   ]
  },
  {
   "cell_type": "code",
   "execution_count": null,
   "id": "293b6ff6-4bfe-4fa3-b498-2053c5909ceb",
   "metadata": {},
   "outputs": [],
   "source": []
  },
  {
   "cell_type": "code",
   "execution_count": 3,
   "id": "fd30d375-6c4f-4b95-a214-4d240057494b",
   "metadata": {},
   "outputs": [],
   "source": [
    "currency = 'usd'"
   ]
  },
  {
   "cell_type": "code",
   "execution_count": 6,
   "id": "ddf68542-f192-42ed-afd7-2187db9152aa",
   "metadata": {},
   "outputs": [
    {
     "data": {
      "text/html": [
       "<div>\n",
       "<style scoped>\n",
       "    .dataframe tbody tr th:only-of-type {\n",
       "        vertical-align: middle;\n",
       "    }\n",
       "\n",
       "    .dataframe tbody tr th {\n",
       "        vertical-align: top;\n",
       "    }\n",
       "\n",
       "    .dataframe thead th {\n",
       "        text-align: right;\n",
       "    }\n",
       "</style>\n",
       "<table border=\"1\" class=\"dataframe\">\n",
       "  <thead>\n",
       "    <tr style=\"text-align: right;\">\n",
       "      <th></th>\n",
       "      <th>Date</th>\n",
       "      <th>Price</th>\n",
       "      <th>Open</th>\n",
       "      <th>High</th>\n",
       "      <th>Low</th>\n",
       "    </tr>\n",
       "  </thead>\n",
       "  <tbody>\n",
       "    <tr>\n",
       "      <th>0</th>\n",
       "      <td>2014-01-01</td>\n",
       "      <td>12170.0</td>\n",
       "      <td>12170.0</td>\n",
       "      <td>12170.0</td>\n",
       "      <td>12170.0</td>\n",
       "    </tr>\n",
       "    <tr>\n",
       "      <th>1</th>\n",
       "      <td>2014-01-02</td>\n",
       "      <td>12160.0</td>\n",
       "      <td>12195.0</td>\n",
       "      <td>12260.0</td>\n",
       "      <td>12150.0</td>\n",
       "    </tr>\n",
       "    <tr>\n",
       "      <th>2</th>\n",
       "      <td>2014-01-03</td>\n",
       "      <td>12170.0</td>\n",
       "      <td>12160.0</td>\n",
       "      <td>12245.0</td>\n",
       "      <td>12160.0</td>\n",
       "    </tr>\n",
       "    <tr>\n",
       "      <th>3</th>\n",
       "      <td>2014-01-06</td>\n",
       "      <td>12180.0</td>\n",
       "      <td>12195.0</td>\n",
       "      <td>12245.0</td>\n",
       "      <td>12180.0</td>\n",
       "    </tr>\n",
       "    <tr>\n",
       "      <th>4</th>\n",
       "      <td>2014-01-07</td>\n",
       "      <td>12237.5</td>\n",
       "      <td>12197.5</td>\n",
       "      <td>12277.5</td>\n",
       "      <td>12197.5</td>\n",
       "    </tr>\n",
       "  </tbody>\n",
       "</table>\n",
       "</div>"
      ],
      "text/plain": [
       "         Date    Price     Open     High      Low\n",
       "0  2014-01-01  12170.0  12170.0  12170.0  12170.0\n",
       "1  2014-01-02  12160.0  12195.0  12260.0  12150.0\n",
       "2  2014-01-03  12170.0  12160.0  12245.0  12160.0\n",
       "3  2014-01-06  12180.0  12195.0  12245.0  12180.0\n",
       "4  2014-01-07  12237.5  12197.5  12277.5  12197.5"
      ]
     },
     "execution_count": 6,
     "metadata": {},
     "output_type": "execute_result"
    }
   ],
   "source": [
    "usd = pd.read_csv(f\"{DATASET_BASEDIR}/usd_datasets.csv\")\n",
    "usd.head()"
   ]
  },
  {
   "cell_type": "markdown",
   "id": "2887d754-e2b4-4ae2-9aaf-a8716ca80ff1",
   "metadata": {},
   "source": [
    "# Data Single Fitur Configuration\n",
    "\n",
    "Pada tahap ini data yang diproses hanya fitur data ***Price*** saja. fitur  ***Open***, ***High***, dan ***Low*** diabaikan.\n",
    "\n",
    "> **Notes**\n",
    ">\n",
    "> perform the process of sharing training and test data, then the data will be normalized in standard form. "
   ]
  },
  {
   "cell_type": "markdown",
   "id": "6708a633-c277-4a2a-a52c-e45c16147895",
   "metadata": {},
   "source": [
    "## Data spliting (training & testing)\n",
    "\n",
    "> **Notes**\n",
    "> Pembagian data training dan testing menggunakan rasio 80% awal untuk training dan 20% terakhir sebagai testing"
   ]
  },
  {
   "cell_type": "code",
   "execution_count": 7,
   "id": "f16b50d4-dbe6-4c96-9a3b-284f97b56c13",
   "metadata": {},
   "outputs": [],
   "source": [
    "# split function\n",
    "\n",
    "def split(data, n_train=0.8, n_test=0.2):\n",
    "    train_set = data.Price.iloc[:round(n_train*len(data))].values\n",
    "    test_set = data.Price.iloc[round( n_train*len(data) ):].values\n",
    "    return train_set, test_set"
   ]
  },
  {
   "cell_type": "code",
   "execution_count": 8,
   "id": "93bafafb-66cc-4beb-8e18-47ea0c7deb32",
   "metadata": {},
   "outputs": [],
   "source": [
    "dataset={}\n",
    "dataset['train_set'], dataset['test_set'] = split(usd)"
   ]
  },
  {
   "cell_type": "markdown",
   "id": "01ac43ca-d169-46ef-b1dd-f9d0f554893d",
   "metadata": {},
   "source": [
    "## Scaling data with MinMaxFunction [-1, 1]\n",
    "\n",
    "\\begin{equation}\n",
    "X\\_std = \\frac{({X} - {X.min(axis=0)})} {(X.max(axis=0) - X.min(axis=0))}\\\\\n",
    "\\\\\n",
    "X\\_scaled = X\\_std * (max - min) + min\\\\\n",
    "\\end{equation}\n"
   ]
  },
  {
   "cell_type": "code",
   "execution_count": 12,
   "id": "98bdcb34-1f81-4325-ac0f-38107ab2a4cf",
   "metadata": {},
   "outputs": [],
   "source": [
    "# define scaler parameter\n",
    "scaler = MinMaxScaler(feature_range=(-1, 1))"
   ]
  },
  {
   "cell_type": "code",
   "execution_count": 13,
   "id": "b76a1d2b-2248-46d5-aefd-eaae6e0a27af",
   "metadata": {},
   "outputs": [],
   "source": [
    "# data set transformation to metric shape (n_data, 1)\n",
    "dataset['train_set'] = dataset['train_set'].reshape(\n",
    "    len(dataset['train_set']), 1\n",
    ")\n",
    "dataset['test_set'] = dataset['test_set'].reshape(\n",
    "    len(dataset['test_set']), 1\n",
    ")"
   ]
  },
  {
   "cell_type": "code",
   "execution_count": 14,
   "id": "d3f97073-c508-41de-8d03-5e43bdf3ac8c",
   "metadata": {},
   "outputs": [],
   "source": [
    "# data transformation\n",
    "dataset['train_set_scaled'] = scaler.fit_transform(dataset['train_set'])\n",
    "dataset['test_set_scaled'] = scaler.fit_transform(dataset['test_set'])"
   ]
  },
  {
   "cell_type": "code",
   "execution_count": 15,
   "id": "7adfabfe-5fe2-42e8-b15e-6143239da1b0",
   "metadata": {},
   "outputs": [],
   "source": [
    "# convert dict to object\n",
    "\n",
    "class dict2obj(object):\n",
    "    def __init__(self, d):\n",
    "        for a, b in d.items():\n",
    "            if isinstance(b, (list, tuple)):\n",
    "                setattr(self, a, [dict2obj(x) if isinstance(x, dict) else x for x in b])\n",
    "            else:\n",
    "                setattr(self, a, dict2obj(b) if isinstance(b, dict) else b)"
   ]
  },
  {
   "cell_type": "code",
   "execution_count": 16,
   "id": "e0e7eb2b-cd5e-41b7-88b4-c41bc4c035b2",
   "metadata": {},
   "outputs": [],
   "source": [
    "data = dict2obj(dataset)"
   ]
  },
  {
   "cell_type": "markdown",
   "id": "953b8546-6602-46d7-952d-7638912628ea",
   "metadata": {},
   "source": [
    "# Sliding dataset"
   ]
  },
  {
   "cell_type": "code",
   "execution_count": 17,
   "id": "6fd34172-31d7-4966-a92f-6229371c8054",
   "metadata": {},
   "outputs": [],
   "source": [
    "def sliding_window(data, window, step_size=1):\n",
    "    X_train=[]\n",
    "    y_train=[]\n",
    "    \n",
    "    for i in range(window, data.shape[0]):\n",
    "        X_train.append(data[i-window:i])\n",
    "        y_train.append(data[i])\n",
    "    X_train, y_train = np.array(X_train), np.array(y_train)\n",
    "    return X_train, y_train"
   ]
  },
  {
   "cell_type": "code",
   "execution_count": 18,
   "id": "6767f331-3f97-406c-956f-8268199c8775",
   "metadata": {},
   "outputs": [],
   "source": [
    "data.windows={}"
   ]
  },
  {
   "cell_type": "code",
   "execution_count": 19,
   "id": "078f6ce2-a91f-42ae-bb6b-9017444f4b48",
   "metadata": {},
   "outputs": [],
   "source": [
    "inputs = [7,8,9,10]\n",
    "\n",
    "for window in inputs:\n",
    "    data.windows[f'X_train{window}'], data.windows[f'y_train{window}'] = sliding_window(\n",
    "        data=data.train_set_scaled,\n",
    "        window=window\n",
    "    )\n",
    "    data.windows[f'X_test{window}'], data.windows[f'y_test{window}'] = sliding_window(\n",
    "        data=data.test_set_scaled,\n",
    "        window=window\n",
    "    )"
   ]
  },
  {
   "cell_type": "code",
   "execution_count": 20,
   "id": "a88bdf5f-6871-46b9-ae69-8d04108590ad",
   "metadata": {},
   "outputs": [],
   "source": [
    "data.windows=dict2obj(data.windows)"
   ]
  },
  {
   "cell_type": "code",
   "execution_count": 21,
   "id": "6635aaef-8011-4083-86b8-8e84397f8f58",
   "metadata": {},
   "outputs": [
    {
     "data": {
      "text/plain": [
       "(1439, 8, 1)"
      ]
     },
     "execution_count": 21,
     "metadata": {},
     "output_type": "execute_result"
    }
   ],
   "source": [
    "data.windows.X_train8.shape"
   ]
  },
  {
   "cell_type": "markdown",
   "id": "3e89b857-e211-4e71-af12-1dfeb1242869",
   "metadata": {},
   "source": [
    "# Proposed model design and Experiment design\n",
    "| No. | Hyperparameters | Accuracy |\n",
    "| :- | -: | :-: |\n",
    "| 1* | Unit input/Sliding Window | [7,8,9,10] |\n",
    "| 2* | Unit Neuron/Block LSTM | [1,2,3,4] |\n",
    "| 3 | Unit Output/Target | 1 |\n",
    "| 4 | Epochs | 100 |\n",
    "| 5 | Hidden Layer (Stacked) | 3 |\n",
    "| 6* | Optimizer | SGD, Adam |\n",
    "| 7 | Beta Value | B1 = 0,9 & B2 = 0,99 |\n",
    "| 8* | Learning Rate | 0,1; 0,01; 0,001; 0,0001 |\n",
    "| 9 | Batch Size | 32 |\n",
    "| 10* | Dropout | 0%, 20% |\n",
    "| 11 | Activate Func | sigmoid & tanh |"
   ]
  },
  {
   "cell_type": "markdown",
   "id": "a6c113f0-ac6a-455f-84d8-6801353dd55f",
   "metadata": {},
   "source": [
    "# Learning Rate \n",
    "Eksperimen dilakukan dengan cara mencari learning rate paling sesuai. pengujian dilakukan dengan nilai 1, 0,1, 0,01 dan 0,001 untuk nilai Learning Rate. Parameter lain akan diatur secara konstan, yaitu sliding window sebesar 1, 2 unit neuron pada hidden layer dan epoch maksimum 1000.."
   ]
  },
  {
   "cell_type": "code",
   "execution_count": 24,
   "id": "13fde2d4-7a18-419c-9ae3-390094f6f898",
   "metadata": {},
   "outputs": [],
   "source": [
    "data.lr={}\n",
    "data.lr['X_train'], data.lr['y_train'] = sliding_window(\n",
    "    data=data.train_set_scaled,\n",
    "    window=1\n",
    ")\n",
    "data.lr['X_test'], data.lr['y_test'] = sliding_window(\n",
    "    data=data.test_set_scaled,\n",
    "    window=1\n",
    ")"
   ]
  },
  {
   "cell_type": "code",
   "execution_count": 25,
   "id": "384d6b01-d25a-4bbf-bc72-6610b59a38ef",
   "metadata": {},
   "outputs": [],
   "source": [
    "data.lr = dict2obj(data.lr)"
   ]
  },
  {
   "cell_type": "code",
   "execution_count": 26,
   "id": "8ba6fb37-d672-4d27-b390-a4bd64f06378",
   "metadata": {},
   "outputs": [],
   "source": [
    "n_data = data.lr.X_train.shape[0]\n",
    "X_train = data.lr.X_train[:round(n_data*.8)]\n",
    "y_train = data.lr.y_train[:round(n_data*.8)]\n",
    "X_validation = data.lr.X_train[round(n_data*.8):]\n",
    "y_validation = data.lr.y_train[round(n_data*.8):]"
   ]
  },
  {
   "cell_type": "markdown",
   "id": "9899a774-94c6-427c-b943-f2f74677dba9",
   "metadata": {
    "tags": []
   },
   "source": [
    "## LR = 1"
   ]
  },
  {
   "cell_type": "code",
   "execution_count": null,
   "id": "8b392acd-27c8-42ef-9464-a7ade291af3b",
   "metadata": {},
   "outputs": [],
   "source": []
  },
  {
   "cell_type": "code",
   "execution_count": null,
   "id": "a90eeb28-dfe2-4713-8c92-8d1693176615",
   "metadata": {},
   "outputs": [],
   "source": []
  }
 ],
 "metadata": {
  "kernelspec": {
   "display_name": "Django Shell-Plus",
   "language": "python",
   "name": "django_extensions"
  },
  "language_info": {
   "codemirror_mode": {
    "name": "ipython",
    "version": 3
   },
   "file_extension": ".py",
   "mimetype": "text/x-python",
   "name": "python",
   "nbconvert_exporter": "python",
   "pygments_lexer": "ipython3",
   "version": "3.8.10"
  }
 },
 "nbformat": 4,
 "nbformat_minor": 5
}
