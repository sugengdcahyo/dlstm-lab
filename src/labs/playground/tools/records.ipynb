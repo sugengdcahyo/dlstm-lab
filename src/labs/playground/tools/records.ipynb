{
 "cells": [
  {
   "cell_type": "code",
   "execution_count": 23,
   "id": "bbf85e15-767c-4ec1-a545-71bab64e82d2",
   "metadata": {},
   "outputs": [],
   "source": [
    "import requests\n",
    "\n",
    "url = \"https://exchangerate.guru/system/exchange-rate-chart\"\n",
    "\n",
    "payload = \"\"\n",
    "headers = {\n",
    "    \"User-Agent\": \"Mozilla/5.0 (X11; Ubuntu; Linux x86_64; rv:101.0) Gecko/20100101 Firefox/101.0\",\n",
    "    \"Accept\": \"application/json, text/javascript, */*; q=0.01\",\n",
    "    \"Accept-Language\": \"en-US,en;q=0.5\",\n",
    "    \"Accept-Encoding\": \"gzip, deflate, br\",\n",
    "    \"X-Requested-With\": \"XMLHttpRequest\",\n",
    "    \"Connection\": \"keep-alive\",\n",
    "    \"Sec-Fetch-Dest\": \"empty\",\n",
    "    \"Sec-Fetch-Mode\": \"cors\",\n",
    "    \"Sec-Fetch-Site\": \"same-origin\",\n",
    "    \"Sec-GPC\": \"1\",\n",
    "    \"TE\": \"trailers\"\n",
    "}"
   ]
  },
  {
   "cell_type": "code",
   "execution_count": 24,
   "id": "d8552a7b-241b-463f-8f3f-cad09f3e79f3",
   "metadata": {},
   "outputs": [],
   "source": [
    "years = [x for x in range(1999, 2023)]"
   ]
  },
  {
   "cell_type": "code",
   "execution_count": 28,
   "id": "1016675b-5287-4701-9ce6-bb676d206321",
   "metadata": {
    "tags": []
   },
   "outputs": [
    {
     "name": "stdout",
     "output_type": "stream",
     "text": [
      "<_io.TextIOWrapper name='../../records/jpy2idr/1999.csv' mode='w' encoding='UTF-8'>\n",
      "<_io.TextIOWrapper name='../../records/jpy2idr/2000.csv' mode='w' encoding='UTF-8'>\n",
      "<_io.TextIOWrapper name='../../records/jpy2idr/2001.csv' mode='w' encoding='UTF-8'>\n",
      "<_io.TextIOWrapper name='../../records/jpy2idr/2002.csv' mode='w' encoding='UTF-8'>\n",
      "<_io.TextIOWrapper name='../../records/jpy2idr/2003.csv' mode='w' encoding='UTF-8'>\n",
      "<_io.TextIOWrapper name='../../records/jpy2idr/2004.csv' mode='w' encoding='UTF-8'>\n",
      "<_io.TextIOWrapper name='../../records/jpy2idr/2005.csv' mode='w' encoding='UTF-8'>\n",
      "<_io.TextIOWrapper name='../../records/jpy2idr/2006.csv' mode='w' encoding='UTF-8'>\n",
      "<_io.TextIOWrapper name='../../records/jpy2idr/2007.csv' mode='w' encoding='UTF-8'>\n",
      "<_io.TextIOWrapper name='../../records/jpy2idr/2008.csv' mode='w' encoding='UTF-8'>\n",
      "<_io.TextIOWrapper name='../../records/jpy2idr/2009.csv' mode='w' encoding='UTF-8'>\n",
      "<_io.TextIOWrapper name='../../records/jpy2idr/2010.csv' mode='w' encoding='UTF-8'>\n",
      "<_io.TextIOWrapper name='../../records/jpy2idr/2011.csv' mode='w' encoding='UTF-8'>\n",
      "<_io.TextIOWrapper name='../../records/jpy2idr/2012.csv' mode='w' encoding='UTF-8'>\n",
      "<_io.TextIOWrapper name='../../records/jpy2idr/2013.csv' mode='w' encoding='UTF-8'>\n",
      "<_io.TextIOWrapper name='../../records/jpy2idr/2014.csv' mode='w' encoding='UTF-8'>\n",
      "<_io.TextIOWrapper name='../../records/jpy2idr/2015.csv' mode='w' encoding='UTF-8'>\n",
      "<_io.TextIOWrapper name='../../records/jpy2idr/2016.csv' mode='w' encoding='UTF-8'>\n",
      "<_io.TextIOWrapper name='../../records/jpy2idr/2017.csv' mode='w' encoding='UTF-8'>\n",
      "<_io.TextIOWrapper name='../../records/jpy2idr/2018.csv' mode='w' encoding='UTF-8'>\n",
      "<_io.TextIOWrapper name='../../records/jpy2idr/2019.csv' mode='w' encoding='UTF-8'>\n",
      "<_io.TextIOWrapper name='../../records/jpy2idr/2020.csv' mode='w' encoding='UTF-8'>\n",
      "<_io.TextIOWrapper name='../../records/jpy2idr/2021.csv' mode='w' encoding='UTF-8'>\n",
      "<_io.TextIOWrapper name='../../records/jpy2idr/2022.csv' mode='w' encoding='UTF-8'>\n"
     ]
    }
   ],
   "source": [
    "for year in years:\n",
    "    querystring = {\n",
    "        \"amount\": \"1\",\n",
    "        \"bcc\": \"JPY\",\n",
    "        \"scc\": \"IDR\",\n",
    "        \"dateFrom\": f\"{year}-01-01\",\n",
    "        \"dateTo\": f\"{year}-12-31\"\n",
    "    }\n",
    "    response = requests.request(\"GET\", url, data=payload, headers=headers, params=querystring)\n",
    "    exchange = response.json()\n",
    "    save2csv(year, exchange)\n",
    "    "
   ]
  },
  {
   "cell_type": "code",
   "execution_count": 27,
   "id": "8c8ee4f1-36a7-4e68-8af4-04559435deae",
   "metadata": {},
   "outputs": [],
   "source": [
    "def save2csv(filename, exchange):\n",
    "    import csv\n",
    "    \n",
    "    columns = [\"date\", \"value\"]\n",
    "    with open(f\"../../records/jpy2idr/{filename}.csv\", \"w\") as file:\n",
    "        csvwriter = csv.writer(file)\n",
    "        csvwriter.writerow(columns)\n",
    "        csvwriter.writerows(exchange)\n",
    "        \n",
    "        print(file)"
   ]
  }
 ],
 "metadata": {
  "kernelspec": {
   "display_name": "Python 3 (ipykernel)",
   "language": "python",
   "name": "python3"
  },
  "language_info": {
   "codemirror_mode": {
    "name": "ipython",
    "version": 3
   },
   "file_extension": ".py",
   "mimetype": "text/x-python",
   "name": "python",
   "nbconvert_exporter": "python",
   "pygments_lexer": "ipython3",
   "version": "3.8.13"
  }
 },
 "nbformat": 4,
 "nbformat_minor": 5
}
