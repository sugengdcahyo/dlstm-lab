{
 "cells": [
  {
   "cell_type": "code",
   "execution_count": 1,
   "id": "e4807229-ad9d-4a97-9c3e-e206d1fb9e5a",
   "metadata": {},
   "outputs": [],
   "source": [
    "# save flags\n",
    "import requests"
   ]
  },
  {
   "cell_type": "code",
   "execution_count": 2,
   "id": "a269ff5a-9ce2-4d5a-9a55-7fb37ec359f7",
   "metadata": {},
   "outputs": [],
   "source": [
    "url = \"https://exchangerate.guru/system/get-rates\"\n",
    "\n",
    "querystring = {\"date\":\"2022-06-26\"}\n",
    "\n",
    "payload = \"\"\n",
    "headers = {\n",
    "    \"User-Agent\": \"Mozilla/5.0 (X11; Ubuntu; Linux x86_64; rv:101.0) Gecko/20100101 Firefox/101.0\",\n",
    "    \"Accept\": \"*/*\",\n",
    "    \"Accept-Language\": \"en-US,en;q=0.5\",\n",
    "    \"Accept-Encoding\": \"gzip, deflate, br\",\n",
    "    \"X-Requested-With\": \"XMLHttpRequest\",\n",
    "    \"Connection\": \"keep-alive\",\n",
    "    \"Referer\": \"https://exchangerate.guru/usd/idr/1/\",\n",
    "    \"Sec-Fetch-Dest\": \"empty\",\n",
    "    \"Sec-Fetch-Mode\": \"cors\",\n",
    "    \"Sec-Fetch-Site\": \"same-origin\",\n",
    "    \"Sec-GPC\": \"1\",\n",
    "    \"TE\": \"trailers\"\n",
    "}\n",
    "\n",
    "rates = requests.request(\"GET\", url, data=payload, headers=headers, params=querystring)"
   ]
  },
  {
   "cell_type": "code",
   "execution_count": 6,
   "id": "d458df3b-bfbf-4181-804f-95512420e817",
   "metadata": {},
   "outputs": [],
   "source": [
    "for idx, rate in enumerate(rates.json()):\n",
    "    with open(f\"../../records/{rate['flagImg']}\", 'wb') as handle:\n",
    "        response = requests.get(f\"https://exchangerate.guru{rate['flagImg']}\", stream=True)\n",
    "\n",
    "        if not response.ok:\n",
    "            print(response)\n",
    "\n",
    "        for block in response.iter_content(1024):\n",
    "            if not block:\n",
    "                break\n",
    "\n",
    "            handle.write(block)"
   ]
  },
  {
   "cell_type": "code",
   "execution_count": 13,
   "id": "018d0fa2-c6aa-4c6c-badb-da8a41282a41",
   "metadata": {},
   "outputs": [],
   "source": [
    "import json\n",
    "with open(\"../../records/master_exchanges/currency.json\", \"+w\") as file:\n",
    "    json.dump(rates.json(), file, indent=4)"
   ]
  },
  {
   "cell_type": "code",
   "execution_count": 16,
   "id": "6942da0d-6bc4-4058-8860-80c95661e8bb",
   "metadata": {},
   "outputs": [],
   "source": [
    "items = rates.json()"
   ]
  },
  {
   "cell_type": "code",
   "execution_count": 28,
   "id": "d9276ac1-b5dd-4266-b657-b28482658fd1",
   "metadata": {},
   "outputs": [
    {
     "name": "stdout",
     "output_type": "stream",
     "text": [
      "{\n",
      "  \"name\": \"IDR Indonesian Rupiah\",\n",
      "  \"rate\": \"14834.60129900000000\",\n",
      "  \"flagImg\": \"/flags/id.svg\",\n",
      "  \"flagAlt\": \"National flag of the Republic of Indonesia\",\n",
      "  \"currency\": \"IDR\",\n",
      "  \"currencyName\": \"Indonesian Rupiah\",\n",
      "  \"issuer\": \"Indonesia\",\n",
      "  \"item\": \"<img src=\\\"/flags/id.svg\\\" width=\\\"16\\\" height=\\\"16\\\" alt=\\\"National flag of the Republic of Indonesia\\\"> <strong>IDR</strong> Indonesian Rupiah\"\n",
      "}\n"
     ]
    }
   ],
   "source": [
    "for idx, item in enumerate(items):\n",
    "    if item['currency'] == \"IDR\":\n",
    "        print(json.dumps(item, indent=2))"
   ]
  }
 ],
 "metadata": {
  "kernelspec": {
   "display_name": "Python 3 (ipykernel)",
   "language": "python",
   "name": "python3"
  },
  "language_info": {
   "codemirror_mode": {
    "name": "ipython",
    "version": 3
   },
   "file_extension": ".py",
   "mimetype": "text/x-python",
   "name": "python",
   "nbconvert_exporter": "python",
   "pygments_lexer": "ipython3",
   "version": "3.8.13"
  }
 },
 "nbformat": 4,
 "nbformat_minor": 5
}
