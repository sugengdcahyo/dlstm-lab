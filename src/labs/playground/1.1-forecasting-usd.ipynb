{
 "cells": [
  {
   "cell_type": "code",
   "execution_count": 60,
   "id": "46ae3f88-b415-4534-ad61-d9178cfbe31a",
   "metadata": {},
   "outputs": [],
   "source": [
    "from utils.dict_transform import dict2obj\n",
    "\n",
    "import os \n",
    "import math\n",
    "import matplotlib.pyplot as plt\n",
    "import keras\n",
    "import pandas as pd\n",
    "import numpy as np\n",
    "\n",
    "from helpers.model_adam import Model\n",
    "\n",
    "from keras.models import Sequential\n",
    "from keras.layers import (\n",
    "    Dense, LSTM, LSTMCell, Dropout\n",
    ")\n",
    "from keras.callbacks import EarlyStopping\n",
    "from keras.utils.vis_utils import plot_model\n",
    "from keras.optimizers import adam_v2, sgd_experimental\n",
    "\n",
    "from sklearn.metrics import (\n",
    "    mean_absolute_error as mae, \n",
    "    mean_squared_error as mse\n",
    ")\n",
    "from sklearn.model_selection import train_test_split\n",
    "from sklearn.preprocessing import MinMaxScaler\n",
    "\n",
    "from bunch import bunchify"
   ]
  },
  {
   "cell_type": "code",
   "execution_count": 2,
   "id": "709265ad-6053-4f38-ba54-b8daa7bc9e26",
   "metadata": {},
   "outputs": [],
   "source": [
    "from django.conf import settings"
   ]
  },
  {
   "cell_type": "code",
   "execution_count": 33,
   "id": "3bda1564-dd0a-473f-a02e-d966cf0db006",
   "metadata": {},
   "outputs": [],
   "source": [
    "DATASET_DIR = \"../datasets/\"\n",
    "MODEL_DIR = \"../models/\"\n",
    "FILE_DIR = \"./\"\n",
    "SAMPLE = \"USD\"\n",
    "INPUTS = [7, 8, 9, 10]"
   ]
  },
  {
   "cell_type": "code",
   "execution_count": 4,
   "id": "84616df5-fe8e-43f7-ba0c-00289033b12f",
   "metadata": {},
   "outputs": [],
   "source": [
    "df = pd.read_csv(f\"../datasets/{SAMPLE.lower()}-merged.csv\", index_col=0, header=0)"
   ]
  },
  {
   "cell_type": "markdown",
   "id": "44c04804-7af7-4ed4-83ce-2af92435d02b",
   "metadata": {},
   "source": [
    "# Data Single Fitur Configuration\n",
    "\n",
    "Pada tahap ini data yang diproses hanya fitur data ***Price*** saja. fitur  ***Open***, ***High***, dan ***Low*** diabaikan.\n",
    "\n",
    "> **Notes**\n",
    ">\n",
    "> perform the process of sharing training and test data, then the data will be normalized in standard form. "
   ]
  },
  {
   "cell_type": "markdown",
   "id": "a16733e6-6ffb-48cb-85b4-8e8a92442707",
   "metadata": {},
   "source": [
    "## Data spliting (training & testing)\n",
    "\n",
    "> **Notes**\n",
    "> Pembagian data training dan testing menggunakan rasio 80% awal untuk training dan 20% terakhir sebagai testing"
   ]
  },
  {
   "cell_type": "code",
   "execution_count": 5,
   "id": "d451db96-2b1b-4c36-ad30-be332d7433c7",
   "metadata": {},
   "outputs": [],
   "source": [
    "# split function\n",
    "def split(data, n_train=.8, n_test=.2):\n",
    "    n_data = len(data)\n",
    "    train_set = data.value.iloc[:round(n_train*n_data)].values\n",
    "    test_set = data.value.iloc[round(n_train*n_data):].values\n",
    "    return train_set, test_set"
   ]
  },
  {
   "cell_type": "code",
   "execution_count": 6,
   "id": "f13a5b40-1bb9-4082-a473-669e1308c2f2",
   "metadata": {},
   "outputs": [],
   "source": [
    "datasets = {}\n",
    "datasets['train_set'], datasets['test_set'] = split(df)"
   ]
  },
  {
   "cell_type": "code",
   "execution_count": 7,
   "id": "061d5134-6cb2-47ae-899c-d7852c6e7e1d",
   "metadata": {},
   "outputs": [
    {
     "data": {
      "text/plain": [
       "('total -> 2557 | ', 2046, 511)"
      ]
     },
     "execution_count": 7,
     "metadata": {},
     "output_type": "execute_result"
    }
   ],
   "source": [
    "f\"total -> {len(df)} | \", len(datasets['train_set']), len(datasets['test_set'])"
   ]
  },
  {
   "cell_type": "markdown",
   "id": "48329163-5824-4fae-80e4-d88fbbbc1964",
   "metadata": {
    "tags": []
   },
   "source": [
    "## Scaling data with MinMaxFunction [-1, 1]\n",
    "\n",
    "\\begin{equation}\n",
    "X\\_std = \\frac{({X} - {X.min(axis=0)})} {(X.max(axis=0) - X.min(axis=0))}\\\\\n",
    "\\\\\n",
    "X\\_scaled = X\\_std * (max - min) + min\\\\\n",
    "\\end{equation}\n"
   ]
  },
  {
   "cell_type": "code",
   "execution_count": 8,
   "id": "9dc7e971-17a9-4949-ad92-30e7df518681",
   "metadata": {},
   "outputs": [],
   "source": [
    "# define scaler parameter\n",
    "scaler = MinMaxScaler(feature_range=(-1, 1))"
   ]
  },
  {
   "cell_type": "code",
   "execution_count": 9,
   "id": "2417f978-bfd2-49d9-b969-45cfac456b7c",
   "metadata": {},
   "outputs": [],
   "source": [
    "# data set transformation to metric shape (n_data, 1)\n",
    "datasets['train_set'] = datasets['train_set'].reshape(\n",
    "    len(datasets['train_set']), 1\n",
    ")\n",
    "datasets['test_set'] = datasets['test_set'].reshape(\n",
    "    len(datasets['test_set']), 1\n",
    ")"
   ]
  },
  {
   "cell_type": "code",
   "execution_count": 14,
   "id": "da7db61e-0f11-4570-9ec8-b7260a8286c2",
   "metadata": {},
   "outputs": [],
   "source": [
    "datasets['train_set_scaled'] = scaler.fit_transform(datasets['train_set'])\n",
    "datasets['test_set_scaled'] = scaler.fit_transform(datasets['test_set'])"
   ]
  },
  {
   "cell_type": "code",
   "execution_count": null,
   "id": "0caffe13-2074-461c-b666-eb8284667586",
   "metadata": {},
   "outputs": [],
   "source": [
    "# convert datatype dict to object\n",
    "\n",
    "class dict2obj(object):\n",
    "    def __init__(self, d):\n",
    "        for a, b in d.items():\n",
    "            if isinstance(b, (list, tuple)):\n",
    "                setattr(self, a, [dict2obj(x) if isinstance(x, dict) else x for x in b])\n",
    "            else:\n",
    "                setattr(self, a, dict2obj(b) if isinstance(b, dict) else b)"
   ]
  },
  {
   "cell_type": "code",
   "execution_count": 25,
   "id": "7c035b29-d646-42c9-82e9-5ce3130304a5",
   "metadata": {},
   "outputs": [],
   "source": [
    "data = dict2obj(datasets)"
   ]
  },
  {
   "cell_type": "code",
   "execution_count": 30,
   "id": "f5a61270-3301-4da2-9297-bc7496064093",
   "metadata": {},
   "outputs": [
    {
     "data": {
      "text/plain": [
       "array([[-0.56300849],\n",
       "       [-0.5701522 ],\n",
       "       [-0.57372405],\n",
       "       ...,\n",
       "       [ 0.4523852 ],\n",
       "       [ 0.47047764],\n",
       "       [ 0.45869548]])"
      ]
     },
     "execution_count": 30,
     "metadata": {},
     "output_type": "execute_result"
    }
   ],
   "source": [
    "data.train_set_scaled"
   ]
  },
  {
   "cell_type": "markdown",
   "id": "72ab35a2-3271-44a3-87b8-1ecc10efbbf5",
   "metadata": {},
   "source": [
    "# Sliding Datasets\n"
   ]
  },
  {
   "cell_type": "code",
   "execution_count": 32,
   "id": "ff25e767-fa1b-468f-a66a-9ff13c54ecab",
   "metadata": {},
   "outputs": [],
   "source": [
    "def sliding_window(data, window, step_size=1 ):\n",
    "    X_train = []\n",
    "    y_train = []\n",
    "    \n",
    "    for i in range(window, data.shape[0]):\n",
    "        X_train.append(data[i-window:i])\n",
    "        y_train.append(data[i])\n",
    "    X_train, y_train = np.array(X_train), np.array(y_train)\n",
    "    return X_train, y_train"
   ]
  },
  {
   "cell_type": "code",
   "execution_count": 36,
   "id": "03c5cbbd-44e6-40d3-8863-b305451dbf47",
   "metadata": {},
   "outputs": [],
   "source": [
    "data.windows = {}"
   ]
  },
  {
   "cell_type": "code",
   "execution_count": 37,
   "id": "d0988a4a-ddac-42f7-85a4-b28b898412dc",
   "metadata": {},
   "outputs": [],
   "source": [
    "for window in INPUTS:\n",
    "    data.windows[f'X_train{window}'], data.windows[f'y_train{window}'] = sliding_window(\n",
    "        data=data.train_set_scaled,\n",
    "        window=window\n",
    "    )\n",
    "    data.windows[f'X_test{window}'], data.windows[f'y_test{window}'] = sliding_window(\n",
    "        data=data.test_set_scaled,\n",
    "        window=window\n",
    "    )"
   ]
  },
  {
   "cell_type": "code",
   "execution_count": 44,
   "id": "9f6820a9-6cdc-4934-9b18-633e7da500fb",
   "metadata": {},
   "outputs": [],
   "source": [
    "data.windows = dict2obj(data.windows)"
   ]
  },
  {
   "cell_type": "code",
   "execution_count": 46,
   "id": "30b3a224-714a-483d-ac6c-33adebc3f74e",
   "metadata": {},
   "outputs": [
    {
     "data": {
      "text/plain": [
       "(2039, 7, 1)"
      ]
     },
     "execution_count": 46,
     "metadata": {},
     "output_type": "execute_result"
    }
   ],
   "source": [
    "data.windows.X_train7.shape"
   ]
  },
  {
   "cell_type": "markdown",
   "id": "748a0fe1-3e1f-4806-91f1-ade82a9a1430",
   "metadata": {},
   "source": [
    "# Proposed model design and Experiment design\n",
    "| No. | Hyperparameters | Accuracy |\n",
    "| :- | -: | :-: |\n",
    "| 1* | Unit input/Sliding Window | [7,8,9,10] |\n",
    "| 2* | Unit Neuron/Block LSTM | [1,2,3,4] |\n",
    "| 3 | Unit Output/Target | 1 |\n",
    "| 4 | Epochs | 100 |\n",
    "| 5 | Hidden Layer (Stacked) | 3 |\n",
    "| 6* | Optimizer | SGD, Adam |\n",
    "| 7 | Beta Value | B1 = 0,9 & B2 = 0,99 |\n",
    "| 8* | Learning Rate | 1; 0,1; 0,01; 0,001 |\n",
    "| 9 | Batch Size | 32 |\n",
    "| 10* | Dropout | 0%, 20% |\n",
    "| 11 | Activate Func | sigmoid & tanh |"
   ]
  },
  {
   "cell_type": "markdown",
   "id": "1506b8e4-1b94-4cfc-9002-30e7f3a13015",
   "metadata": {},
   "source": [
    "# Learning Rate \n",
    "- eksperimen dilakukan dengan cara mencari learning rate paling sesuai. pengujian dilakukan dengan nilai 1, 0,1, 0,01 dan 0,001 untuk nilai Learning Rate. Parameter lain akan diatur secara konstan, yaitu sliding window sebesar 1, 2 unit neuron pada hidden layer dan epoch maksimum 1000.\n",
    "\n",
    "\n",
    "## LR 1"
   ]
  },
  {
   "cell_type": "code",
   "execution_count": 117,
   "id": "80852a64-a6b3-42d4-8f78-88854ec2da4e",
   "metadata": {},
   "outputs": [],
   "source": [
    "n_data = data.windows.X_train7.shape[0]\n",
    "X_train = data.windows.X_train7[:round(n_data*.8)]\n",
    "y_train = data.windows.y_train7[:round(n_data*.8)]\n",
    "X_validation = data.windows.X_train7[round(n_data*.8):]\n",
    "y_validation = data.windows.y_train7[round(n_data*.8):]"
   ]
  },
  {
   "cell_type": "code",
   "execution_count": 124,
   "id": "f58f33f9-312e-47f7-a850-4ed08b67248f",
   "metadata": {
    "collapsed": true,
    "jupyter": {
     "outputs_hidden": true
    },
    "tags": []
   },
   "outputs": [
    {
     "ename": "NameError",
     "evalue": "name 'Adam' is not defined",
     "output_type": "error",
     "traceback": [
      "\u001b[0;31m---------------------------------------------------------------------------\u001b[0m",
      "\u001b[0;31mNameError\u001b[0m                                 Traceback (most recent call last)",
      "\u001b[0;32m/tmp/ipykernel_409856/2477786104.py\u001b[0m in \u001b[0;36m<module>\u001b[0;34m\u001b[0m\n\u001b[1;32m      1\u001b[0m \u001b[0mlr1\u001b[0m \u001b[0;34m=\u001b[0m \u001b[0mModel\u001b[0m\u001b[0;34m(\u001b[0m\u001b[0;34m)\u001b[0m\u001b[0;34m\u001b[0m\u001b[0;34m\u001b[0m\u001b[0m\n\u001b[0;32m----> 2\u001b[0;31m lr1.set_model(\n\u001b[0m\u001b[1;32m      3\u001b[0m     \u001b[0mname_opt\u001b[0m\u001b[0;34m=\u001b[0m\u001b[0;34m'Adam'\u001b[0m\u001b[0;34m,\u001b[0m\u001b[0;34m\u001b[0m\u001b[0;34m\u001b[0m\u001b[0m\n\u001b[1;32m      4\u001b[0m     \u001b[0minput_shape\u001b[0m\u001b[0;34m=\u001b[0m\u001b[0mdata\u001b[0m\u001b[0;34m.\u001b[0m\u001b[0mwindows\u001b[0m\u001b[0;34m.\u001b[0m\u001b[0mX_train7\u001b[0m\u001b[0;34m.\u001b[0m\u001b[0mshape\u001b[0m\u001b[0;34m[\u001b[0m\u001b[0;36m1\u001b[0m\u001b[0;34m]\u001b[0m\u001b[0;34m,\u001b[0m\u001b[0;34m\u001b[0m\u001b[0;34m\u001b[0m\u001b[0m\n\u001b[1;32m      5\u001b[0m     \u001b[0mneuron_shape\u001b[0m\u001b[0;34m=\u001b[0m\u001b[0;36m1\u001b[0m\u001b[0;34m,\u001b[0m\u001b[0;34m\u001b[0m\u001b[0;34m\u001b[0m\u001b[0m\n",
      "\u001b[0;32m~/dlstm-lab/src/labs/playground/helpers/model_adam.py\u001b[0m in \u001b[0;36mset_model\u001b[0;34m(self, name_opt, input_shape, neuron_shape, lr)\u001b[0m\n\u001b[1;32m     14\u001b[0m \u001b[0;34m\u001b[0m\u001b[0m\n\u001b[1;32m     15\u001b[0m     \u001b[0;32mdef\u001b[0m \u001b[0mset_model\u001b[0m\u001b[0;34m(\u001b[0m\u001b[0mself\u001b[0m\u001b[0;34m,\u001b[0m \u001b[0mname_opt\u001b[0m\u001b[0;34m:\u001b[0m \u001b[0;34m'Adam'\u001b[0m\u001b[0;34m,\u001b[0m \u001b[0minput_shape\u001b[0m\u001b[0;34m=\u001b[0m\u001b[0mint\u001b[0m\u001b[0;34m(\u001b[0m\u001b[0;34m)\u001b[0m\u001b[0;34m,\u001b[0m \u001b[0mneuron_shape\u001b[0m\u001b[0;34m=\u001b[0m\u001b[0mint\u001b[0m\u001b[0;34m(\u001b[0m\u001b[0;34m)\u001b[0m\u001b[0;34m,\u001b[0m \u001b[0mlr\u001b[0m\u001b[0;34m=\u001b[0m\u001b[0;36m0.001\u001b[0m\u001b[0;34m)\u001b[0m\u001b[0;34m:\u001b[0m\u001b[0;34m\u001b[0m\u001b[0;34m\u001b[0m\u001b[0m\n\u001b[0;32m---> 16\u001b[0;31m         \u001b[0mneuron_1\u001b[0m \u001b[0;34m=\u001b[0m \u001b[0mneuron_shape\u001b[0m\u001b[0;34m\u001b[0m\u001b[0;34m\u001b[0m\u001b[0m\n\u001b[0m\u001b[1;32m     17\u001b[0m \u001b[0;34m\u001b[0m\u001b[0m\n\u001b[1;32m     18\u001b[0m         \u001b[0;32mif\u001b[0m \u001b[0mname_opt\u001b[0m\u001b[0;34m==\u001b[0m\u001b[0;34m'Adam'\u001b[0m\u001b[0;34m:\u001b[0m\u001b[0;34m\u001b[0m\u001b[0;34m\u001b[0m\u001b[0m\n",
      "\u001b[0;31mNameError\u001b[0m: name 'Adam' is not defined"
     ]
    }
   ],
   "source": [
    "lr1 = Model()\n",
    "lr1.set_model(\n",
    "    name_opt='Adam',\n",
    "    input_shape=data.windows.X_train7.shape[1],\n",
    "    neuron_shape=1,\n",
    "    lr=1\n",
    ")"
   ]
  },
  {
   "cell_type": "code",
   "execution_count": 125,
   "id": "229e8291-0304-4b14-9838-17d4b8064e12",
   "metadata": {},
   "outputs": [],
   "source": [
    "regressor = Sequential()\n",
    "regressor.add(\n",
    "    LSTM(units=7, input_shape=(7, 1))\n",
    ")\n",
    "regressor.add(Dense(1))"
   ]
  },
  {
   "cell_type": "code",
   "execution_count": 126,
   "id": "7b824f84-bd8a-4386-b1f1-1c4cf7fbc1b5",
   "metadata": {},
   "outputs": [
    {
     "name": "stdout",
     "output_type": "stream",
     "text": [
      "Model: \"sequential_3\"\n",
      "_________________________________________________________________\n",
      " Layer (type)                Output Shape              Param #   \n",
      "=================================================================\n",
      " lstm_3 (LSTM)               (None, 7)                 252       \n",
      "                                                                 \n",
      " dense_3 (Dense)             (None, 1)                 8         \n",
      "                                                                 \n",
      "=================================================================\n",
      "Total params: 260\n",
      "Trainable params: 260\n",
      "Non-trainable params: 0\n",
      "_________________________________________________________________\n",
      "None\n"
     ]
    }
   ],
   "source": [
    "print(regressor.summary())"
   ]
  },
  {
   "cell_type": "code",
   "execution_count": 127,
   "id": "4721ac85-6754-4893-a9b9-80b18258a7ac",
   "metadata": {},
   "outputs": [],
   "source": [
    "regressor.compile(\n",
    "    optimizer=adam_v2.Adam(learning_rate=1, beta_1=.9, beta_2=.999),\n",
    "    loss='mean_squared_error',\n",
    "    metrics=['mean_squared_error']\n",
    ")"
   ]
  },
  {
   "cell_type": "code",
   "execution_count": 128,
   "id": "c6ea0d85-0df0-4853-a27e-d1721d4e91e1",
   "metadata": {
    "collapsed": true,
    "jupyter": {
     "outputs_hidden": true
    },
    "tags": []
   },
   "outputs": [
    {
     "name": "stdout",
     "output_type": "stream",
     "text": [
      "Epoch 1/100\n",
      "51/51 [==============================] - 3s 16ms/step - loss: 1.0550 - mean_squared_error: 1.0550 - val_loss: 0.7564 - val_mean_squared_error: 0.7564\n",
      "Epoch 2/100\n",
      "51/51 [==============================] - 0s 5ms/step - loss: 0.1594 - mean_squared_error: 0.1594 - val_loss: 0.3648 - val_mean_squared_error: 0.3648\n",
      "Epoch 3/100\n",
      "51/51 [==============================] - 0s 5ms/step - loss: 0.1101 - mean_squared_error: 0.1101 - val_loss: 0.1572 - val_mean_squared_error: 0.1572\n",
      "Epoch 4/100\n",
      "51/51 [==============================] - 0s 5ms/step - loss: 0.0311 - mean_squared_error: 0.0311 - val_loss: 0.0441 - val_mean_squared_error: 0.0441\n",
      "Epoch 5/100\n",
      "51/51 [==============================] - 0s 5ms/step - loss: 0.0161 - mean_squared_error: 0.0161 - val_loss: 0.0239 - val_mean_squared_error: 0.0239\n",
      "Epoch 6/100\n",
      "51/51 [==============================] - 0s 4ms/step - loss: 0.0149 - mean_squared_error: 0.0149 - val_loss: 0.0764 - val_mean_squared_error: 0.0764\n",
      "Epoch 7/100\n",
      "51/51 [==============================] - 0s 6ms/step - loss: 0.0208 - mean_squared_error: 0.0208 - val_loss: 0.1461 - val_mean_squared_error: 0.1461\n",
      "Epoch 8/100\n",
      "51/51 [==============================] - 0s 5ms/step - loss: 0.0132 - mean_squared_error: 0.0132 - val_loss: 0.0232 - val_mean_squared_error: 0.0232\n",
      "Epoch 9/100\n",
      "51/51 [==============================] - 0s 5ms/step - loss: 0.0079 - mean_squared_error: 0.0079 - val_loss: 0.0250 - val_mean_squared_error: 0.0250\n",
      "Epoch 10/100\n",
      "51/51 [==============================] - 0s 4ms/step - loss: 0.0347 - mean_squared_error: 0.0347 - val_loss: 0.0321 - val_mean_squared_error: 0.0321\n",
      "Epoch 11/100\n",
      "51/51 [==============================] - 0s 5ms/step - loss: 0.0180 - mean_squared_error: 0.0180 - val_loss: 0.0414 - val_mean_squared_error: 0.0414\n",
      "Epoch 12/100\n",
      "51/51 [==============================] - 0s 4ms/step - loss: 0.0158 - mean_squared_error: 0.0158 - val_loss: 0.0149 - val_mean_squared_error: 0.0149\n",
      "Epoch 13/100\n",
      "51/51 [==============================] - 0s 5ms/step - loss: 0.0216 - mean_squared_error: 0.0216 - val_loss: 0.0487 - val_mean_squared_error: 0.0487\n",
      "Epoch 14/100\n",
      "51/51 [==============================] - 0s 4ms/step - loss: 0.0189 - mean_squared_error: 0.0189 - val_loss: 0.0322 - val_mean_squared_error: 0.0322\n",
      "Epoch 15/100\n",
      "51/51 [==============================] - 0s 4ms/step - loss: 0.0387 - mean_squared_error: 0.0387 - val_loss: 0.0143 - val_mean_squared_error: 0.0143\n",
      "Epoch 16/100\n",
      "51/51 [==============================] - 0s 4ms/step - loss: 0.0215 - mean_squared_error: 0.0215 - val_loss: 0.2479 - val_mean_squared_error: 0.2479\n",
      "Epoch 17/100\n",
      "51/51 [==============================] - 0s 4ms/step - loss: 0.0335 - mean_squared_error: 0.0335 - val_loss: 0.0577 - val_mean_squared_error: 0.0577\n",
      "Epoch 18/100\n",
      "51/51 [==============================] - 0s 4ms/step - loss: 0.0427 - mean_squared_error: 0.0427 - val_loss: 0.1521 - val_mean_squared_error: 0.1521\n",
      "Epoch 19/100\n",
      "51/51 [==============================] - 0s 5ms/step - loss: 0.0331 - mean_squared_error: 0.0331 - val_loss: 0.0191 - val_mean_squared_error: 0.0191\n",
      "Epoch 20/100\n",
      "51/51 [==============================] - 0s 5ms/step - loss: 0.0148 - mean_squared_error: 0.0148 - val_loss: 0.0483 - val_mean_squared_error: 0.0483\n",
      "Epoch 21/100\n",
      "51/51 [==============================] - 0s 4ms/step - loss: 0.0267 - mean_squared_error: 0.0267 - val_loss: 0.0707 - val_mean_squared_error: 0.0707\n",
      "Epoch 22/100\n",
      "51/51 [==============================] - 0s 4ms/step - loss: 0.0264 - mean_squared_error: 0.0264 - val_loss: 0.0218 - val_mean_squared_error: 0.0218\n",
      "Epoch 23/100\n",
      "51/51 [==============================] - 0s 5ms/step - loss: 0.0216 - mean_squared_error: 0.0216 - val_loss: 0.1757 - val_mean_squared_error: 0.1757\n",
      "Epoch 24/100\n",
      "51/51 [==============================] - 0s 5ms/step - loss: 0.0450 - mean_squared_error: 0.0450 - val_loss: 0.0529 - val_mean_squared_error: 0.0529\n",
      "Epoch 25/100\n",
      "51/51 [==============================] - 0s 5ms/step - loss: 0.0200 - mean_squared_error: 0.0200 - val_loss: 0.1347 - val_mean_squared_error: 0.1347\n",
      "Epoch 26/100\n",
      "51/51 [==============================] - 0s 5ms/step - loss: 0.0315 - mean_squared_error: 0.0315 - val_loss: 0.0176 - val_mean_squared_error: 0.0176\n",
      "Epoch 27/100\n",
      "51/51 [==============================] - 0s 5ms/step - loss: 0.0320 - mean_squared_error: 0.0320 - val_loss: 0.0996 - val_mean_squared_error: 0.0996\n",
      "Epoch 28/100\n",
      "51/51 [==============================] - 0s 5ms/step - loss: 0.0169 - mean_squared_error: 0.0169 - val_loss: 0.1829 - val_mean_squared_error: 0.1829\n",
      "Epoch 29/100\n",
      "51/51 [==============================] - 0s 4ms/step - loss: 0.0449 - mean_squared_error: 0.0449 - val_loss: 0.0560 - val_mean_squared_error: 0.0560\n",
      "Epoch 30/100\n",
      "51/51 [==============================] - 0s 5ms/step - loss: 0.0299 - mean_squared_error: 0.0299 - val_loss: 0.0521 - val_mean_squared_error: 0.0521\n",
      "Epoch 31/100\n",
      "51/51 [==============================] - 0s 4ms/step - loss: 0.0197 - mean_squared_error: 0.0197 - val_loss: 0.0279 - val_mean_squared_error: 0.0279\n",
      "Epoch 32/100\n",
      "51/51 [==============================] - 0s 5ms/step - loss: 0.0313 - mean_squared_error: 0.0313 - val_loss: 0.1851 - val_mean_squared_error: 0.1851\n",
      "Epoch 33/100\n",
      "51/51 [==============================] - 0s 4ms/step - loss: 0.0399 - mean_squared_error: 0.0399 - val_loss: 0.3444 - val_mean_squared_error: 0.3444\n",
      "Epoch 34/100\n",
      "51/51 [==============================] - 0s 4ms/step - loss: 0.0237 - mean_squared_error: 0.0237 - val_loss: 0.6010 - val_mean_squared_error: 0.6010\n",
      "Epoch 35/100\n",
      "51/51 [==============================] - 0s 5ms/step - loss: 0.0200 - mean_squared_error: 0.0200 - val_loss: 0.8092 - val_mean_squared_error: 0.8092\n",
      "Epoch 36/100\n",
      "51/51 [==============================] - 0s 5ms/step - loss: 0.0436 - mean_squared_error: 0.0436 - val_loss: 0.4630 - val_mean_squared_error: 0.4630\n",
      "Epoch 37/100\n",
      "51/51 [==============================] - 0s 5ms/step - loss: 0.0379 - mean_squared_error: 0.0379 - val_loss: 0.7713 - val_mean_squared_error: 0.7713\n",
      "Epoch 38/100\n",
      "51/51 [==============================] - 0s 5ms/step - loss: 0.0343 - mean_squared_error: 0.0343 - val_loss: 0.7986 - val_mean_squared_error: 0.7986\n",
      "Epoch 39/100\n",
      "51/51 [==============================] - 0s 4ms/step - loss: 0.0451 - mean_squared_error: 0.0451 - val_loss: 0.2720 - val_mean_squared_error: 0.2720\n",
      "Epoch 40/100\n",
      "51/51 [==============================] - 0s 5ms/step - loss: 0.0225 - mean_squared_error: 0.0225 - val_loss: 0.6371 - val_mean_squared_error: 0.6371\n",
      "Epoch 41/100\n",
      "51/51 [==============================] - 0s 5ms/step - loss: 0.0389 - mean_squared_error: 0.0389 - val_loss: 0.4722 - val_mean_squared_error: 0.4722\n",
      "Epoch 42/100\n",
      "51/51 [==============================] - 0s 5ms/step - loss: 0.0314 - mean_squared_error: 0.0314 - val_loss: 0.7919 - val_mean_squared_error: 0.7919\n",
      "Epoch 43/100\n",
      "51/51 [==============================] - 0s 4ms/step - loss: 0.0363 - mean_squared_error: 0.0363 - val_loss: 0.1940 - val_mean_squared_error: 0.1940\n",
      "Epoch 44/100\n",
      "51/51 [==============================] - 0s 5ms/step - loss: 0.0294 - mean_squared_error: 0.0294 - val_loss: 0.4166 - val_mean_squared_error: 0.4166\n",
      "Epoch 45/100\n",
      "51/51 [==============================] - 0s 4ms/step - loss: 0.0326 - mean_squared_error: 0.0326 - val_loss: 0.5413 - val_mean_squared_error: 0.5413\n",
      "Epoch 46/100\n",
      "51/51 [==============================] - 0s 5ms/step - loss: 0.0174 - mean_squared_error: 0.0174 - val_loss: 0.4457 - val_mean_squared_error: 0.4457\n",
      "Epoch 47/100\n",
      "51/51 [==============================] - 0s 5ms/step - loss: 0.0201 - mean_squared_error: 0.0201 - val_loss: 0.3968 - val_mean_squared_error: 0.3968\n",
      "Epoch 48/100\n",
      "51/51 [==============================] - 0s 5ms/step - loss: 0.1160 - mean_squared_error: 0.1160 - val_loss: 0.0445 - val_mean_squared_error: 0.0445\n",
      "Epoch 49/100\n",
      "51/51 [==============================] - 0s 4ms/step - loss: 0.0150 - mean_squared_error: 0.0150 - val_loss: 0.1106 - val_mean_squared_error: 0.1106\n",
      "Epoch 50/100\n",
      "51/51 [==============================] - 0s 5ms/step - loss: 0.0206 - mean_squared_error: 0.0206 - val_loss: 0.0300 - val_mean_squared_error: 0.0300\n",
      "Epoch 51/100\n",
      "51/51 [==============================] - 0s 5ms/step - loss: 0.0191 - mean_squared_error: 0.0191 - val_loss: 0.0301 - val_mean_squared_error: 0.0301\n",
      "Epoch 52/100\n",
      "51/51 [==============================] - 0s 5ms/step - loss: 0.0406 - mean_squared_error: 0.0406 - val_loss: 0.0200 - val_mean_squared_error: 0.0200\n",
      "Epoch 53/100\n",
      "51/51 [==============================] - 0s 5ms/step - loss: 0.1366 - mean_squared_error: 0.1366 - val_loss: 0.0849 - val_mean_squared_error: 0.0849\n",
      "Epoch 54/100\n",
      "51/51 [==============================] - 0s 4ms/step - loss: 0.0338 - mean_squared_error: 0.0338 - val_loss: 0.0701 - val_mean_squared_error: 0.0701\n",
      "Epoch 55/100\n",
      "51/51 [==============================] - 0s 4ms/step - loss: 0.0129 - mean_squared_error: 0.0129 - val_loss: 0.0797 - val_mean_squared_error: 0.0797\n",
      "Epoch 56/100\n",
      "51/51 [==============================] - 0s 4ms/step - loss: 0.0548 - mean_squared_error: 0.0548 - val_loss: 0.0484 - val_mean_squared_error: 0.0484\n",
      "Epoch 57/100\n",
      "51/51 [==============================] - 0s 5ms/step - loss: 0.0430 - mean_squared_error: 0.0430 - val_loss: 0.0643 - val_mean_squared_error: 0.0643\n",
      "Epoch 58/100\n",
      "51/51 [==============================] - 0s 5ms/step - loss: 0.0141 - mean_squared_error: 0.0141 - val_loss: 0.0388 - val_mean_squared_error: 0.0388\n",
      "Epoch 59/100\n",
      "51/51 [==============================] - 0s 4ms/step - loss: 0.0273 - mean_squared_error: 0.0273 - val_loss: 0.2037 - val_mean_squared_error: 0.2037\n",
      "Epoch 60/100\n",
      "51/51 [==============================] - 0s 6ms/step - loss: 0.0188 - mean_squared_error: 0.0188 - val_loss: 0.0246 - val_mean_squared_error: 0.0246\n",
      "Epoch 61/100\n",
      "51/51 [==============================] - 0s 5ms/step - loss: 0.0368 - mean_squared_error: 0.0368 - val_loss: 0.0521 - val_mean_squared_error: 0.0521\n",
      "Epoch 62/100\n",
      "51/51 [==============================] - 0s 5ms/step - loss: 0.0339 - mean_squared_error: 0.0339 - val_loss: 0.1876 - val_mean_squared_error: 0.1876\n",
      "Epoch 63/100\n",
      "51/51 [==============================] - 0s 5ms/step - loss: 0.0338 - mean_squared_error: 0.0338 - val_loss: 0.1903 - val_mean_squared_error: 0.1903\n",
      "Epoch 64/100\n",
      "51/51 [==============================] - 0s 4ms/step - loss: 0.0277 - mean_squared_error: 0.0277 - val_loss: 0.0237 - val_mean_squared_error: 0.0237\n",
      "Epoch 65/100\n",
      "51/51 [==============================] - 0s 5ms/step - loss: 0.0297 - mean_squared_error: 0.0297 - val_loss: 0.0336 - val_mean_squared_error: 0.0336\n",
      "Epoch 66/100\n",
      "51/51 [==============================] - 0s 5ms/step - loss: 0.0199 - mean_squared_error: 0.0199 - val_loss: 0.0361 - val_mean_squared_error: 0.0361\n",
      "Epoch 67/100\n",
      "51/51 [==============================] - 0s 5ms/step - loss: 0.0136 - mean_squared_error: 0.0136 - val_loss: 0.1285 - val_mean_squared_error: 0.1285\n",
      "Epoch 68/100\n",
      "51/51 [==============================] - 0s 5ms/step - loss: 0.0392 - mean_squared_error: 0.0392 - val_loss: 0.0263 - val_mean_squared_error: 0.0263\n",
      "Epoch 69/100\n",
      "51/51 [==============================] - 0s 4ms/step - loss: 0.0280 - mean_squared_error: 0.0280 - val_loss: 0.0280 - val_mean_squared_error: 0.0280\n",
      "Epoch 70/100\n",
      "51/51 [==============================] - 0s 4ms/step - loss: 0.0167 - mean_squared_error: 0.0167 - val_loss: 0.0481 - val_mean_squared_error: 0.0481\n",
      "Epoch 71/100\n",
      "51/51 [==============================] - 0s 4ms/step - loss: 0.0547 - mean_squared_error: 0.0547 - val_loss: 0.4593 - val_mean_squared_error: 0.4593\n",
      "Epoch 72/100\n",
      "51/51 [==============================] - 0s 5ms/step - loss: 0.0520 - mean_squared_error: 0.0520 - val_loss: 0.0577 - val_mean_squared_error: 0.0577\n",
      "Epoch 73/100\n",
      "51/51 [==============================] - 0s 5ms/step - loss: 0.0176 - mean_squared_error: 0.0176 - val_loss: 0.0797 - val_mean_squared_error: 0.0797\n",
      "Epoch 74/100\n",
      "51/51 [==============================] - 0s 4ms/step - loss: 0.0262 - mean_squared_error: 0.0262 - val_loss: 0.0834 - val_mean_squared_error: 0.0834\n",
      "Epoch 75/100\n",
      "51/51 [==============================] - 0s 5ms/step - loss: 0.0138 - mean_squared_error: 0.0138 - val_loss: 0.0258 - val_mean_squared_error: 0.0258\n",
      "Epoch 76/100\n",
      "51/51 [==============================] - 0s 4ms/step - loss: 0.0546 - mean_squared_error: 0.0546 - val_loss: 0.0880 - val_mean_squared_error: 0.0880\n",
      "Epoch 77/100\n",
      "51/51 [==============================] - 0s 5ms/step - loss: 0.0392 - mean_squared_error: 0.0392 - val_loss: 0.0563 - val_mean_squared_error: 0.0563\n",
      "Epoch 78/100\n",
      "51/51 [==============================] - 0s 4ms/step - loss: 0.0406 - mean_squared_error: 0.0406 - val_loss: 0.1618 - val_mean_squared_error: 0.1618\n",
      "Epoch 79/100\n",
      "51/51 [==============================] - 0s 4ms/step - loss: 0.0248 - mean_squared_error: 0.0248 - val_loss: 0.0328 - val_mean_squared_error: 0.0328\n",
      "Epoch 80/100\n",
      "51/51 [==============================] - 0s 5ms/step - loss: 0.0358 - mean_squared_error: 0.0358 - val_loss: 0.0281 - val_mean_squared_error: 0.0281\n",
      "Epoch 81/100\n",
      "51/51 [==============================] - 0s 5ms/step - loss: 0.0390 - mean_squared_error: 0.0390 - val_loss: 0.0332 - val_mean_squared_error: 0.0332\n",
      "Epoch 82/100\n",
      "51/51 [==============================] - 0s 4ms/step - loss: 0.0252 - mean_squared_error: 0.0252 - val_loss: 0.0350 - val_mean_squared_error: 0.0350\n",
      "Epoch 83/100\n",
      "51/51 [==============================] - 0s 5ms/step - loss: 0.0180 - mean_squared_error: 0.0180 - val_loss: 0.0289 - val_mean_squared_error: 0.0289\n",
      "Epoch 84/100\n",
      "51/51 [==============================] - 0s 5ms/step - loss: 0.0168 - mean_squared_error: 0.0168 - val_loss: 0.0322 - val_mean_squared_error: 0.0322\n",
      "Epoch 85/100\n",
      "51/51 [==============================] - 0s 5ms/step - loss: 0.0421 - mean_squared_error: 0.0421 - val_loss: 0.1656 - val_mean_squared_error: 0.1656\n",
      "Epoch 86/100\n",
      "51/51 [==============================] - 0s 5ms/step - loss: 0.0535 - mean_squared_error: 0.0535 - val_loss: 0.0732 - val_mean_squared_error: 0.0732\n",
      "Epoch 87/100\n",
      "51/51 [==============================] - 0s 4ms/step - loss: 0.0178 - mean_squared_error: 0.0178 - val_loss: 0.0454 - val_mean_squared_error: 0.0454\n",
      "Epoch 88/100\n",
      "51/51 [==============================] - 0s 5ms/step - loss: 0.0278 - mean_squared_error: 0.0278 - val_loss: 0.2494 - val_mean_squared_error: 0.2494\n",
      "Epoch 89/100\n",
      "51/51 [==============================] - 0s 4ms/step - loss: 0.0471 - mean_squared_error: 0.0471 - val_loss: 0.1549 - val_mean_squared_error: 0.1549\n",
      "Epoch 90/100\n",
      "51/51 [==============================] - 0s 5ms/step - loss: 0.0348 - mean_squared_error: 0.0348 - val_loss: 0.1578 - val_mean_squared_error: 0.1578\n",
      "Epoch 91/100\n",
      "51/51 [==============================] - 0s 5ms/step - loss: 0.0415 - mean_squared_error: 0.0415 - val_loss: 0.0400 - val_mean_squared_error: 0.0400\n",
      "Epoch 92/100\n",
      "51/51 [==============================] - 0s 5ms/step - loss: 0.0272 - mean_squared_error: 0.0272 - val_loss: 0.0345 - val_mean_squared_error: 0.0345\n",
      "Epoch 93/100\n",
      "51/51 [==============================] - 0s 6ms/step - loss: 0.0229 - mean_squared_error: 0.0229 - val_loss: 0.0634 - val_mean_squared_error: 0.0634\n",
      "Epoch 94/100\n",
      "51/51 [==============================] - 0s 4ms/step - loss: 0.0188 - mean_squared_error: 0.0188 - val_loss: 0.0286 - val_mean_squared_error: 0.0286\n",
      "Epoch 95/100\n",
      "51/51 [==============================] - 0s 5ms/step - loss: 0.0323 - mean_squared_error: 0.0323 - val_loss: 0.0273 - val_mean_squared_error: 0.0273\n",
      "Epoch 96/100\n",
      "51/51 [==============================] - 0s 5ms/step - loss: 0.0398 - mean_squared_error: 0.0398 - val_loss: 0.0610 - val_mean_squared_error: 0.0610\n",
      "Epoch 97/100\n",
      "51/51 [==============================] - 0s 5ms/step - loss: 0.0321 - mean_squared_error: 0.0321 - val_loss: 0.0494 - val_mean_squared_error: 0.0494\n",
      "Epoch 98/100\n",
      "51/51 [==============================] - 0s 5ms/step - loss: 0.0283 - mean_squared_error: 0.0283 - val_loss: 0.0288 - val_mean_squared_error: 0.0288\n",
      "Epoch 99/100\n",
      "51/51 [==============================] - 0s 5ms/step - loss: 0.0159 - mean_squared_error: 0.0159 - val_loss: 0.0322 - val_mean_squared_error: 0.0322\n",
      "Epoch 100/100\n",
      "51/51 [==============================] - 0s 5ms/step - loss: 0.0222 - mean_squared_error: 0.0222 - val_loss: 0.0277 - val_mean_squared_error: 0.0277\n"
     ]
    },
    {
     "data": {
      "text/plain": [
       "<keras.callbacks.History at 0x7fbbdbaf7fd0>"
      ]
     },
     "execution_count": 128,
     "metadata": {},
     "output_type": "execute_result"
    }
   ],
   "source": [
    "regressor.fit(\n",
    "    X_train,\n",
    "    y_train,\n",
    "    batch_size=32,\n",
    "    epochs=100, \n",
    "    validation_data=(X_validation, y_validation)\n",
    ")"
   ]
  },
  {
   "cell_type": "code",
   "execution_count": 129,
   "id": "6bf27ff1-e0e5-4ff2-b5d6-2e90e9e468b1",
   "metadata": {},
   "outputs": [
    {
     "data": {
      "text/plain": [
       "(1, 28)"
      ]
     },
     "execution_count": 129,
     "metadata": {},
     "output_type": "execute_result"
    }
   ],
   "source": [
    "regressor.history.model.get_weights()[0].shape"
   ]
  },
  {
   "cell_type": "code",
   "execution_count": 141,
   "id": "3516a6b1-73ac-467e-9a6d-12b5e5bff601",
   "metadata": {},
   "outputs": [
    {
     "name": "stdout",
     "output_type": "stream",
     "text": [
      "(1, 28)\n",
      "(7, 28)\n",
      "(28,)\n",
      "(7, 1)\n",
      "(1,)\n"
     ]
    }
   ],
   "source": [
    "len(regressor.get_weights())\n",
    "for weight in regressor.get_weights():\n",
    "    print(weight.shape)"
   ]
  },
  {
   "cell_type": "code",
   "execution_count": 142,
   "id": "4649738c-9b36-4034-982c-5aead72cce30",
   "metadata": {},
   "outputs": [
    {
     "data": {
      "text/plain": [
       "{'name': 'sequential_3',\n",
       " 'layers': [{'class_name': 'InputLayer',\n",
       "   'config': {'batch_input_shape': (None, 7, 1),\n",
       "    'dtype': 'float32',\n",
       "    'sparse': False,\n",
       "    'ragged': False,\n",
       "    'name': 'lstm_3_input'}},\n",
       "  {'class_name': 'LSTM',\n",
       "   'config': {'name': 'lstm_3',\n",
       "    'trainable': True,\n",
       "    'batch_input_shape': (None, 7, 1),\n",
       "    'dtype': 'float32',\n",
       "    'return_sequences': False,\n",
       "    'return_state': False,\n",
       "    'go_backwards': False,\n",
       "    'stateful': False,\n",
       "    'unroll': False,\n",
       "    'time_major': False,\n",
       "    'units': 7,\n",
       "    'activation': 'tanh',\n",
       "    'recurrent_activation': 'sigmoid',\n",
       "    'use_bias': True,\n",
       "    'kernel_initializer': {'class_name': 'GlorotUniform',\n",
       "     'config': {'seed': None}},\n",
       "    'recurrent_initializer': {'class_name': 'Orthogonal',\n",
       "     'config': {'gain': 1.0, 'seed': None}},\n",
       "    'bias_initializer': {'class_name': 'Zeros', 'config': {}},\n",
       "    'unit_forget_bias': True,\n",
       "    'kernel_regularizer': None,\n",
       "    'recurrent_regularizer': None,\n",
       "    'bias_regularizer': None,\n",
       "    'activity_regularizer': None,\n",
       "    'kernel_constraint': None,\n",
       "    'recurrent_constraint': None,\n",
       "    'bias_constraint': None,\n",
       "    'dropout': 0.0,\n",
       "    'recurrent_dropout': 0.0,\n",
       "    'implementation': 2}},\n",
       "  {'class_name': 'Dense',\n",
       "   'config': {'name': 'dense_3',\n",
       "    'trainable': True,\n",
       "    'dtype': 'float32',\n",
       "    'units': 1,\n",
       "    'activation': 'linear',\n",
       "    'use_bias': True,\n",
       "    'kernel_initializer': {'class_name': 'GlorotUniform',\n",
       "     'config': {'seed': None}},\n",
       "    'bias_initializer': {'class_name': 'Zeros', 'config': {}},\n",
       "    'kernel_regularizer': None,\n",
       "    'bias_regularizer': None,\n",
       "    'activity_regularizer': None,\n",
       "    'kernel_constraint': None,\n",
       "    'bias_constraint': None}}]}"
      ]
     },
     "execution_count": 142,
     "metadata": {},
     "output_type": "execute_result"
    }
   ],
   "source": [
    "regressor.get_config()"
   ]
  },
  {
   "cell_type": "code",
   "execution_count": 135,
   "id": "1e5bc5ff-341f-4f49-a066-37da78213722",
   "metadata": {},
   "outputs": [
    {
     "data": {
      "text/plain": [
       "<matplotlib.legend.Legend at 0x7fbbdb1198e0>"
      ]
     },
     "execution_count": 135,
     "metadata": {},
     "output_type": "execute_result"
    },
    {
     "data": {
      "image/png": "[encoded data removed]",
      "text/plain": [
       "<Figure size 432x288 with 1 Axes>"
      ]
     },
     "metadata": {
      "needs_background": "light"
     },
     "output_type": "display_data"
    }
   ],
   "source": [
    "plt.plot(regressor.history.history['mean_squared_error'])\n",
    "plt.plot(regressor.history.history['val_mean_squared_error'])\n",
    "plt.title('Sample Model Adam')\n",
    "plt.xlabel('mse')\n",
    "plt.ylabel('epoch')\n",
    "plt.legend(['train', 'validation'])"
   ]
  }
 ],
 "metadata": {
  "kernelspec": {
   "display_name": "Django Shell-Plus",
   "language": "python",
   "name": "django_extensions"
  },
  "language_info": {
   "codemirror_mode": {
    "name": "ipython",
    "version": 3
   },
   "file_extension": ".py",
   "mimetype": "text/x-python",
   "name": "python",
   "nbconvert_exporter": "python",
   "pygments_lexer": "ipython3",
   "version": "3.8.10"
  },
  "toc-autonumbering": true
 },
 "nbformat": 4,
 "nbformat_minor": 5
}
