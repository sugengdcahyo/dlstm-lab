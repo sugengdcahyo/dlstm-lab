{
 "cells": [
  {
   "cell_type": "code",
   "execution_count": 1,
   "id": "2c79d219-625c-4957-af95-0c835b35ed15",
   "metadata": {},
   "outputs": [],
   "source": [
    "import numpy as np\n",
    "import pandas as pd\n",
    "import matplotlib.pyplot as plt\n",
    "import os\n",
    "import glob"
   ]
  },
  {
   "cell_type": "code",
   "execution_count": 2,
   "id": "0e58dccf-7175-4d97-8452-c8631a547b99",
   "metadata": {},
   "outputs": [],
   "source": [
    "sample = \"USD\"\n",
    "range_sample = (2014, 2021)"
   ]
  },
  {
   "cell_type": "code",
   "execution_count": 3,
   "id": "429b447c-15bb-4132-93d6-1db10f06dae5",
   "metadata": {},
   "outputs": [],
   "source": [
    "DATASETS_DIR = \"../records/usd2idr/\" if sample == \"USD\" else \"../records/jpy2idr/\""
   ]
  },
  {
   "cell_type": "raw",
   "id": "48f4c23b-541a-4771-aa99-82981a668d20",
   "metadata": {},
   "source": [
    "all_files = glob.glob(os.path.join(DATASETS_DIR, \"*.csv\"))\n",
    "df_from_each_file = (pd.read_csv(f, sep=',') for f in all_files)\n",
    "df_merged   = pd.concat(df_from_each_file, ignore_index=True)\n",
    "df_merged.to_csv( \"merged.csv\")\n"
   ]
  },
  {
   "cell_type": "code",
   "execution_count": 4,
   "id": "e6bfdd14-8a4b-45ce-a0a4-ef6b669824ea",
   "metadata": {},
   "outputs": [],
   "source": [
    "all_files = [f\"{DATASETS_DIR}{x}.csv\" for x in range(*(range_sample))]\n",
    "df_from_each_file = (pd.read_csv(f, sep=',') for f in all_files)\n",
    "df_merged = pd.concat(df_from_each_file, ignore_index=True)"
   ]
  },
  {
   "cell_type": "code",
   "execution_count": 5,
   "id": "bf7c1083-3069-471e-ac38-468a82d92540",
   "metadata": {},
   "outputs": [],
   "source": [
    "df_merged.value = df_merged.value.round(2)"
   ]
  },
  {
   "cell_type": "code",
   "execution_count": 6,
   "id": "a0e6b4c9-2e47-49d5-ad79-084c00c1ae01",
   "metadata": {},
   "outputs": [],
   "source": [
    "df_merged.date = pd.to_datetime(df_merged.date, unit=\"ms\")"
   ]
  },
  {
   "cell_type": "code",
   "execution_count": 7,
   "id": "aff3177d-44ee-4b67-8277-9d2455d5104c",
   "metadata": {},
   "outputs": [
    {
     "data": {
      "text/html": [
       "<div>\n",
       "<style scoped>\n",
       "    .dataframe tbody tr th:only-of-type {\n",
       "        vertical-align: middle;\n",
       "    }\n",
       "\n",
       "    .dataframe tbody tr th {\n",
       "        vertical-align: top;\n",
       "    }\n",
       "\n",
       "    .dataframe thead th {\n",
       "        text-align: right;\n",
       "    }\n",
       "</style>\n",
       "<table border=\"1\" class=\"dataframe\">\n",
       "  <thead>\n",
       "    <tr style=\"text-align: right;\">\n",
       "      <th></th>\n",
       "      <th>date</th>\n",
       "      <th>value</th>\n",
       "    </tr>\n",
       "  </thead>\n",
       "  <tbody>\n",
       "    <tr>\n",
       "      <th>0</th>\n",
       "      <td>2014-01-01</td>\n",
       "      <td>12172.10</td>\n",
       "    </tr>\n",
       "    <tr>\n",
       "      <th>1</th>\n",
       "      <td>2014-01-02</td>\n",
       "      <td>12157.70</td>\n",
       "    </tr>\n",
       "    <tr>\n",
       "      <th>2</th>\n",
       "      <td>2014-01-03</td>\n",
       "      <td>12150.50</td>\n",
       "    </tr>\n",
       "    <tr>\n",
       "      <th>3</th>\n",
       "      <td>2014-01-04</td>\n",
       "      <td>12155.40</td>\n",
       "    </tr>\n",
       "    <tr>\n",
       "      <th>4</th>\n",
       "      <td>2014-01-05</td>\n",
       "      <td>12150.50</td>\n",
       "    </tr>\n",
       "    <tr>\n",
       "      <th>...</th>\n",
       "      <td>...</td>\n",
       "      <td>...</td>\n",
       "    </tr>\n",
       "    <tr>\n",
       "      <th>2552</th>\n",
       "      <td>2020-12-27</td>\n",
       "      <td>14189.65</td>\n",
       "    </tr>\n",
       "    <tr>\n",
       "      <th>2553</th>\n",
       "      <td>2020-12-28</td>\n",
       "      <td>14129.14</td>\n",
       "    </tr>\n",
       "    <tr>\n",
       "      <th>2554</th>\n",
       "      <td>2020-12-29</td>\n",
       "      <td>14111.41</td>\n",
       "    </tr>\n",
       "    <tr>\n",
       "      <th>2555</th>\n",
       "      <td>2020-12-30</td>\n",
       "      <td>14019.33</td>\n",
       "    </tr>\n",
       "    <tr>\n",
       "      <th>2556</th>\n",
       "      <td>2020-12-31</td>\n",
       "      <td>13956.29</td>\n",
       "    </tr>\n",
       "  </tbody>\n",
       "</table>\n",
       "<p>2557 rows × 2 columns</p>\n",
       "</div>"
      ],
      "text/plain": [
       "           date     value\n",
       "0    2014-01-01  12172.10\n",
       "1    2014-01-02  12157.70\n",
       "2    2014-01-03  12150.50\n",
       "3    2014-01-04  12155.40\n",
       "4    2014-01-05  12150.50\n",
       "...         ...       ...\n",
       "2552 2020-12-27  14189.65\n",
       "2553 2020-12-28  14129.14\n",
       "2554 2020-12-29  14111.41\n",
       "2555 2020-12-30  14019.33\n",
       "2556 2020-12-31  13956.29\n",
       "\n",
       "[2557 rows x 2 columns]"
      ]
     },
     "execution_count": 7,
     "metadata": {},
     "output_type": "execute_result"
    }
   ],
   "source": [
    "df_merged"
   ]
  },
  {
   "cell_type": "code",
   "execution_count": 8,
   "id": "902c4572-2a4e-4b8e-92ef-46cec879ffe4",
   "metadata": {},
   "outputs": [],
   "source": [
    "df_merged = df_merged.sort_values(by=\"date\").reset_index(drop=True)"
   ]
  },
  {
   "cell_type": "code",
   "execution_count": 9,
   "id": "3de667c4-f90b-432e-91de-788bf5bd6713",
   "metadata": {},
   "outputs": [],
   "source": [
    "df_merged = df_merged.set_index('date')"
   ]
  },
  {
   "cell_type": "code",
   "execution_count": 10,
   "id": "43018ce4-d199-4cda-9752-579c0cef7515",
   "metadata": {},
   "outputs": [],
   "source": [
    "df_merged.to_csv(f\"../datasets/{sample.lower()}-merged.csv\")"
   ]
  },
  {
   "cell_type": "code",
   "execution_count": 11,
   "id": "fc810f81-b200-4bbd-8d75-aeee246fc7cb",
   "metadata": {},
   "outputs": [],
   "source": [
    "from matplotlib import pyplot as plt"
   ]
  },
  {
   "cell_type": "code",
   "execution_count": 12,
   "id": "143395df-3945-45a6-a88c-b61f43750e3b",
   "metadata": {},
   "outputs": [
    {
     "data": {
      "text/plain": [
       "<AxesSubplot:xlabel='date'>"
      ]
     },
     "execution_count": 12,
     "metadata": {},
     "output_type": "execute_result"
    },
    {
     "data": {
      "image/png": "[encoded data removed]",
      "text/plain": [
       "<Figure size 432x288 with 1 Axes>"
      ]
     },
     "metadata": {
      "needs_background": "light"
     },
     "output_type": "display_data"
    }
   ],
   "source": [
    "df_merged.plot()"
   ]
  },
  {
   "cell_type": "markdown",
   "id": "28e189f2-4718-41a1-9599-08696bae2f83",
   "metadata": {},
   "source": [
    "# Export data to csv."
   ]
  },
  {
   "cell_type": "code",
   "execution_count": 13,
   "id": "ff4e8db8-7c10-4986-ae4a-3bb1c25cd65f",
   "metadata": {},
   "outputs": [
    {
     "ename": "NameError",
     "evalue": "name 'usd' is not defined",
     "output_type": "error",
     "traceback": [
      "\u001b[0;31m---------------------------------------------------------------------------\u001b[0m",
      "\u001b[0;31mNameError\u001b[0m                                 Traceback (most recent call last)",
      "\u001b[0;32m/tmp/ipykernel_3486553/3773448781.py\u001b[0m in \u001b[0;36m<module>\u001b[0;34m\u001b[0m\n\u001b[0;32m----> 1\u001b[0;31m \u001b[0musd\u001b[0m\u001b[0;34m.\u001b[0m\u001b[0mclean\u001b[0m \u001b[0;34m=\u001b[0m \u001b[0musd\u001b[0m\u001b[0;34m.\u001b[0m\u001b[0mclean\u001b[0m\u001b[0;34m.\u001b[0m\u001b[0mdrop\u001b[0m\u001b[0;34m(\u001b[0m\u001b[0mcolumns\u001b[0m\u001b[0;34m=\u001b[0m\u001b[0;34m[\u001b[0m\u001b[0;34m'Change %'\u001b[0m\u001b[0;34m]\u001b[0m\u001b[0;34m)\u001b[0m\u001b[0;34m\u001b[0m\u001b[0;34m\u001b[0m\u001b[0m\n\u001b[0m\u001b[1;32m      2\u001b[0m \u001b[0mjpy\u001b[0m\u001b[0;34m.\u001b[0m\u001b[0mclean\u001b[0m \u001b[0;34m=\u001b[0m \u001b[0mjpy\u001b[0m\u001b[0;34m.\u001b[0m\u001b[0mclean\u001b[0m\u001b[0;34m.\u001b[0m\u001b[0mdrop\u001b[0m\u001b[0;34m(\u001b[0m\u001b[0mcolumns\u001b[0m\u001b[0;34m=\u001b[0m\u001b[0;34m[\u001b[0m\u001b[0;34m'Change %'\u001b[0m\u001b[0;34m]\u001b[0m\u001b[0;34m)\u001b[0m\u001b[0;34m\u001b[0m\u001b[0;34m\u001b[0m\u001b[0m\n",
      "\u001b[0;31mNameError\u001b[0m: name 'usd' is not defined"
     ]
    }
   ],
   "source": [
    "usd.clean = usd.clean.drop(columns=['Change %'])\n",
    "jpy.clean = jpy.clean.drop(columns=['Change %'])"
   ]
  },
  {
   "cell_type": "code",
   "execution_count": 14,
   "id": "0bbddf32-8974-4547-93c9-26e5e4dbbfce",
   "metadata": {},
   "outputs": [
    {
     "ename": "NameError",
     "evalue": "name 'usd' is not defined",
     "output_type": "error",
     "traceback": [
      "\u001b[0;31m---------------------------------------------------------------------------\u001b[0m",
      "\u001b[0;31mNameError\u001b[0m                                 Traceback (most recent call last)",
      "\u001b[0;32m/tmp/ipykernel_3486553/3609278663.py\u001b[0m in \u001b[0;36m<module>\u001b[0;34m\u001b[0m\n\u001b[0;32m----> 1\u001b[0;31m \u001b[0musd\u001b[0m\u001b[0;34m.\u001b[0m\u001b[0mclean\u001b[0m\u001b[0;34m.\u001b[0m\u001b[0mto_csv\u001b[0m\u001b[0;34m(\u001b[0m\u001b[0;34mf\"{DATASET_BASEDIR}/usd_datasets.csv\"\u001b[0m\u001b[0;34m)\u001b[0m\u001b[0;34m\u001b[0m\u001b[0;34m\u001b[0m\u001b[0m\n\u001b[0m\u001b[1;32m      2\u001b[0m \u001b[0mjpy\u001b[0m\u001b[0;34m.\u001b[0m\u001b[0mclean\u001b[0m\u001b[0;34m.\u001b[0m\u001b[0mto_csv\u001b[0m\u001b[0;34m(\u001b[0m\u001b[0;34mf\"{DATASET_BASEDIR}/jpy_datasets.csv\"\u001b[0m\u001b[0;34m)\u001b[0m\u001b[0;34m\u001b[0m\u001b[0;34m\u001b[0m\u001b[0m\n",
      "\u001b[0;31mNameError\u001b[0m: name 'usd' is not defined"
     ]
    }
   ],
   "source": [
    "usd.clean.to_csv(f\"{DATASET_BASEDIR}/usd_datasets.csv\")\n",
    "jpy.clean.to_csv(f\"{DATASET_BASEDIR}/jpy_datasets.csv\")"
   ]
  },
  {
   "cell_type": "code",
   "execution_count": null,
   "id": "60b5d0b3-0299-467e-a78b-1782132834ad",
   "metadata": {},
   "outputs": [],
   "source": []
  }
 ],
 "metadata": {
  "kernelspec": {
   "display_name": "Python 3 (ipykernel)",
   "language": "python",
   "name": "python3"
  },
  "language_info": {
   "codemirror_mode": {
    "name": "ipython",
    "version": 3
   },
   "file_extension": ".py",
   "mimetype": "text/x-python",
   "name": "python",
   "nbconvert_exporter": "python",
   "pygments_lexer": "ipython3",
   "version": "3.8.10"
  },
  "toc-autonumbering": true
 },
 "nbformat": 4,
 "nbformat_minor": 5
}
